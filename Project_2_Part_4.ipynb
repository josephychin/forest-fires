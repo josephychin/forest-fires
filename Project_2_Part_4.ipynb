{
  "nbformat": 4,
  "nbformat_minor": 0,
  "metadata": {
    "colab": {
      "name": "Project 2 - Part 4.ipynb",
      "provenance": [],
      "collapsed_sections": [],
      "authorship_tag": "ABX9TyOpxV8NqP+JCSh/wd09lORV",
      "include_colab_link": true
    },
    "kernelspec": {
      "name": "python3",
      "display_name": "Python 3"
    },
    "language_info": {
      "name": "python"
    }
  },
  "cells": [
    {
      "cell_type": "markdown",
      "metadata": {
        "id": "view-in-github",
        "colab_type": "text"
      },
      "source": [
        "<a href=\"https://colab.research.google.com/github/josephychin/forest-fires/blob/main/Project_2_Part_4.ipynb\" target=\"_parent\"><img src=\"https://colab.research.google.com/assets/colab-badge.svg\" alt=\"Open In Colab\"/></a>"
      ]
    },
    {
      "cell_type": "markdown",
      "metadata": {
        "id": "gZ3oHTQupR5B"
      },
      "source": [
        "Project 2 - Part 4\n",
        "\n",
        "Your second project is going to have a lot more freedom than your first project. This is because we want you to have a project in your portfolio that interests you or relates to the industry you would like to work in.\n",
        "\n",
        "Your task for this week is to continue modeling with your data (or begin if you did not start this last week). Make sure you are validating your model and determining which evaluation metrics are best to evaluate your model.\n",
        "\n",
        "Commit your data and any work you do to your GitHub repository."
      ]
    },
    {
      "cell_type": "code",
      "metadata": {
        "id": "Lq0aiVNnpNBn",
        "colab": {
          "base_uri": "https://localhost:8080/"
        },
        "outputId": "1ee3102f-70dc-44fe-87ae-8d33e8f7e014"
      },
      "source": [
        "from google.colab import drive\n",
        "drive.mount('/content/drive')"
      ],
      "execution_count": 1,
      "outputs": [
        {
          "output_type": "stream",
          "text": [
            "Mounted at /content/drive\n"
          ],
          "name": "stdout"
        }
      ]
    },
    {
      "cell_type": "code",
      "metadata": {
        "id": "Ga-Qbh8XrHSO"
      },
      "source": [
        "import pandas as pd\n",
        "import numpy as np\n",
        "import matplotlib.pyplot as plt\n",
        "import seaborn as sns"
      ],
      "execution_count": 2,
      "outputs": []
    },
    {
      "cell_type": "code",
      "metadata": {
        "colab": {
          "base_uri": "https://localhost:8080/",
          "height": 204
        },
        "id": "eGZDcOHSrMZw",
        "outputId": "384aa23b-ee05-479d-a1fc-6d0a69d93097"
      },
      "source": [
        "df = pd.read_csv('/content/drive/MyDrive/Coding Dojo/PandasForDataManipulation/forestfires.csv')\n",
        "df.head()"
      ],
      "execution_count": 3,
      "outputs": [
        {
          "output_type": "execute_result",
          "data": {
            "text/html": [
              "<div>\n",
              "<style scoped>\n",
              "    .dataframe tbody tr th:only-of-type {\n",
              "        vertical-align: middle;\n",
              "    }\n",
              "\n",
              "    .dataframe tbody tr th {\n",
              "        vertical-align: top;\n",
              "    }\n",
              "\n",
              "    .dataframe thead th {\n",
              "        text-align: right;\n",
              "    }\n",
              "</style>\n",
              "<table border=\"1\" class=\"dataframe\">\n",
              "  <thead>\n",
              "    <tr style=\"text-align: right;\">\n",
              "      <th></th>\n",
              "      <th>X</th>\n",
              "      <th>Y</th>\n",
              "      <th>month</th>\n",
              "      <th>day</th>\n",
              "      <th>FFMC</th>\n",
              "      <th>DMC</th>\n",
              "      <th>DC</th>\n",
              "      <th>ISI</th>\n",
              "      <th>temp</th>\n",
              "      <th>RH</th>\n",
              "      <th>wind</th>\n",
              "      <th>rain</th>\n",
              "      <th>area</th>\n",
              "    </tr>\n",
              "  </thead>\n",
              "  <tbody>\n",
              "    <tr>\n",
              "      <th>0</th>\n",
              "      <td>7</td>\n",
              "      <td>5</td>\n",
              "      <td>mar</td>\n",
              "      <td>fri</td>\n",
              "      <td>86.2</td>\n",
              "      <td>26.2</td>\n",
              "      <td>94.3</td>\n",
              "      <td>5.1</td>\n",
              "      <td>8.2</td>\n",
              "      <td>51</td>\n",
              "      <td>6.7</td>\n",
              "      <td>0.0</td>\n",
              "      <td>0.0</td>\n",
              "    </tr>\n",
              "    <tr>\n",
              "      <th>1</th>\n",
              "      <td>7</td>\n",
              "      <td>4</td>\n",
              "      <td>oct</td>\n",
              "      <td>tue</td>\n",
              "      <td>90.6</td>\n",
              "      <td>35.4</td>\n",
              "      <td>669.1</td>\n",
              "      <td>6.7</td>\n",
              "      <td>18.0</td>\n",
              "      <td>33</td>\n",
              "      <td>0.9</td>\n",
              "      <td>0.0</td>\n",
              "      <td>0.0</td>\n",
              "    </tr>\n",
              "    <tr>\n",
              "      <th>2</th>\n",
              "      <td>7</td>\n",
              "      <td>4</td>\n",
              "      <td>oct</td>\n",
              "      <td>sat</td>\n",
              "      <td>90.6</td>\n",
              "      <td>43.7</td>\n",
              "      <td>686.9</td>\n",
              "      <td>6.7</td>\n",
              "      <td>14.6</td>\n",
              "      <td>33</td>\n",
              "      <td>1.3</td>\n",
              "      <td>0.0</td>\n",
              "      <td>0.0</td>\n",
              "    </tr>\n",
              "    <tr>\n",
              "      <th>3</th>\n",
              "      <td>8</td>\n",
              "      <td>6</td>\n",
              "      <td>mar</td>\n",
              "      <td>fri</td>\n",
              "      <td>91.7</td>\n",
              "      <td>33.3</td>\n",
              "      <td>77.5</td>\n",
              "      <td>9.0</td>\n",
              "      <td>8.3</td>\n",
              "      <td>97</td>\n",
              "      <td>4.0</td>\n",
              "      <td>0.2</td>\n",
              "      <td>0.0</td>\n",
              "    </tr>\n",
              "    <tr>\n",
              "      <th>4</th>\n",
              "      <td>8</td>\n",
              "      <td>6</td>\n",
              "      <td>mar</td>\n",
              "      <td>sun</td>\n",
              "      <td>89.3</td>\n",
              "      <td>51.3</td>\n",
              "      <td>102.2</td>\n",
              "      <td>9.6</td>\n",
              "      <td>11.4</td>\n",
              "      <td>99</td>\n",
              "      <td>1.8</td>\n",
              "      <td>0.0</td>\n",
              "      <td>0.0</td>\n",
              "    </tr>\n",
              "  </tbody>\n",
              "</table>\n",
              "</div>"
            ],
            "text/plain": [
              "   X  Y month  day  FFMC   DMC     DC  ISI  temp  RH  wind  rain  area\n",
              "0  7  5   mar  fri  86.2  26.2   94.3  5.1   8.2  51   6.7   0.0   0.0\n",
              "1  7  4   oct  tue  90.6  35.4  669.1  6.7  18.0  33   0.9   0.0   0.0\n",
              "2  7  4   oct  sat  90.6  43.7  686.9  6.7  14.6  33   1.3   0.0   0.0\n",
              "3  8  6   mar  fri  91.7  33.3   77.5  9.0   8.3  97   4.0   0.2   0.0\n",
              "4  8  6   mar  sun  89.3  51.3  102.2  9.6  11.4  99   1.8   0.0   0.0"
            ]
          },
          "metadata": {},
          "execution_count": 3
        }
      ]
    },
    {
      "cell_type": "code",
      "metadata": {
        "colab": {
          "base_uri": "https://localhost:8080/"
        },
        "id": "7HdATvOGrNLk",
        "outputId": "d23a9cf0-126b-4f1c-8418-f16a4cb9ad7f"
      },
      "source": [
        "df.info()"
      ],
      "execution_count": 4,
      "outputs": [
        {
          "output_type": "stream",
          "text": [
            "<class 'pandas.core.frame.DataFrame'>\n",
            "RangeIndex: 517 entries, 0 to 516\n",
            "Data columns (total 13 columns):\n",
            " #   Column  Non-Null Count  Dtype  \n",
            "---  ------  --------------  -----  \n",
            " 0   X       517 non-null    int64  \n",
            " 1   Y       517 non-null    int64  \n",
            " 2   month   517 non-null    object \n",
            " 3   day     517 non-null    object \n",
            " 4   FFMC    517 non-null    float64\n",
            " 5   DMC     517 non-null    float64\n",
            " 6   DC      517 non-null    float64\n",
            " 7   ISI     517 non-null    float64\n",
            " 8   temp    517 non-null    float64\n",
            " 9   RH      517 non-null    int64  \n",
            " 10  wind    517 non-null    float64\n",
            " 11  rain    517 non-null    float64\n",
            " 12  area    517 non-null    float64\n",
            "dtypes: float64(8), int64(3), object(2)\n",
            "memory usage: 52.6+ KB\n"
          ],
          "name": "stdout"
        }
      ]
    },
    {
      "cell_type": "code",
      "metadata": {
        "id": "b8dLvpLMrV79"
      },
      "source": [
        "from sklearn.preprocessing import StandardScaler\n",
        "from sklearn.cluster import KMeans"
      ],
      "execution_count": 8,
      "outputs": []
    },
    {
      "cell_type": "code",
      "metadata": {
        "id": "v32IcsjCrOJr"
      },
      "source": [
        "X = df[['FFMC', 'DMC', 'DC', 'ISI', 'temp', 'RH', 'wind', 'rain', 'area', 'X', 'Y']]"
      ],
      "execution_count": 9,
      "outputs": []
    },
    {
      "cell_type": "code",
      "metadata": {
        "id": "hrU1nQKXrRXv"
      },
      "source": [
        "scaler = StandardScaler()\n",
        "scaled_df = scaler.fit_transform(X)"
      ],
      "execution_count": 10,
      "outputs": []
    },
    {
      "cell_type": "code",
      "metadata": {
        "colab": {
          "base_uri": "https://localhost:8080/"
        },
        "id": "dU-5z5DrrUkz",
        "outputId": "1a795eb8-7360-4ffd-b9fe-d1ddaf405d0b"
      },
      "source": [
        "kmeans = KMeans(n_clusters = 5)\n",
        "kmeans.fit(scaled_df)"
      ],
      "execution_count": 11,
      "outputs": [
        {
          "output_type": "execute_result",
          "data": {
            "text/plain": [
              "KMeans(algorithm='auto', copy_x=True, init='k-means++', max_iter=300,\n",
              "       n_clusters=5, n_init=10, n_jobs=None, precompute_distances='auto',\n",
              "       random_state=None, tol=0.0001, verbose=0)"
            ]
          },
          "metadata": {},
          "execution_count": 11
        }
      ]
    },
    {
      "cell_type": "code",
      "metadata": {
        "id": "HJeDdmGDrVhX"
      },
      "source": [
        "df['cluster'] = kmeans.labels_"
      ],
      "execution_count": 12,
      "outputs": []
    },
    {
      "cell_type": "code",
      "metadata": {
        "colab": {
          "base_uri": "https://localhost:8080/"
        },
        "id": "gFrh8JAMrYTe",
        "outputId": "01f5382c-6cfd-4995-b6d7-b68cc08adb93"
      },
      "source": [
        "df['cluster'].value_counts()"
      ],
      "execution_count": 13,
      "outputs": [
        {
          "output_type": "execute_result",
          "data": {
            "text/plain": [
              "1    204\n",
              "2    125\n",
              "0    108\n",
              "4     79\n",
              "3      1\n",
              "Name: cluster, dtype: int64"
            ]
          },
          "metadata": {},
          "execution_count": 13
        }
      ]
    },
    {
      "cell_type": "code",
      "metadata": {
        "id": "3ZCxVXr0raTO"
      },
      "source": [
        "seg1 = df[df['cluster'] == 0]\n",
        "seg2 = df[df['cluster'] == 1]\n",
        "seg3 = df[df['cluster'] == 2]\n",
        "seg4 = df[df['cluster'] == 3]\n",
        "seg5 = df[df['cluster'] == 4]"
      ],
      "execution_count": 14,
      "outputs": []
    },
    {
      "cell_type": "code",
      "metadata": {
        "colab": {
          "base_uri": "https://localhost:8080/"
        },
        "id": "oPDzo09HrbfZ",
        "outputId": "3f906a2e-52fe-47f3-e65c-7d13e9e3b9f7"
      },
      "source": [
        "fire_segs = [seg1, seg2, seg3, seg4, seg5]\n",
        "for segment in fire_segs:\n",
        "  print(segment.describe().T)"
      ],
      "execution_count": 15,
      "outputs": [
        {
          "output_type": "stream",
          "text": [
            "         count        mean         std   min     25%    50%       75%     max\n",
            "X        108.0    4.870370    1.788293   1.0   4.000   5.00    6.0000    9.00\n",
            "Y        108.0    4.481481    1.171958   2.0   4.000   4.00    5.0000    9.00\n",
            "FFMC     108.0   85.462037    9.739051  18.7  84.675  87.60   90.7250   94.00\n",
            "DMC      108.0   30.262037   20.888935   1.1  15.075  25.95   40.2500   96.20\n",
            "DC       108.0  126.425926  144.829501   7.9  45.925  80.80  103.8000  706.60\n",
            "ISI      108.0    5.430556    3.133284   0.0   2.800   5.00    7.8000   12.50\n",
            "temp     108.0   11.912963    4.570529   2.2   8.600  12.25   15.2000   23.30\n",
            "RH       108.0   46.555556   19.853827  18.0  29.750  43.00   59.0000  100.00\n",
            "wind     108.0    4.798148    2.096815   0.9   3.100   4.90    5.8000    9.40\n",
            "rain     108.0    0.001852    0.019245   0.0   0.000   0.00    0.0000    0.20\n",
            "area     108.0    5.679537   11.065593   0.0   0.000   0.00    6.9275   61.13\n",
            "cluster  108.0    0.000000    0.000000   0.0   0.000   0.00    0.0000    0.00\n",
            "         count        mean        std    min      25%      50%      75%     max\n",
            "X        204.0    2.921569   1.529263    1.0    2.000    3.000    4.000    7.00\n",
            "Y        204.0    3.617647   0.983050    2.0    3.000    4.000    4.000    5.00\n",
            "FFMC     204.0   92.304902   1.856947   81.6   91.350   92.200   93.500   96.20\n",
            "DMC      204.0  126.723529  43.466492   35.4   99.600  122.000  145.400  290.00\n",
            "DC       204.0  667.912255  95.734958  296.3  630.675  688.000  724.300  855.30\n",
            "ISI      204.0    9.973529   3.662012    1.9    7.475    9.000   12.200   21.30\n",
            "temp     204.0   21.907353   3.929865   12.9   19.100   21.400   24.125   33.10\n",
            "RH       204.0   37.906863   9.858914   15.0   31.000   39.000   44.000   70.00\n",
            "wind     204.0    3.543137   1.526676    0.4    2.200    3.350    4.500    9.40\n",
            "rain     204.0    0.000000   0.000000    0.0    0.000    0.000    0.000    0.00\n",
            "area     204.0    8.946029  27.127002    0.0    0.000    0.755    6.120  212.88\n",
            "cluster  204.0    1.000000   0.000000    1.0    1.000    1.000    1.000    1.00\n",
            "         count       mean         std    min    25%     50%     75%      max\n",
            "X        125.0    7.20800    1.102022    4.0    6.0    7.00    8.00     9.00\n",
            "Y        125.0    5.24800    1.126341    3.0    4.0    5.00    6.00     9.00\n",
            "FFMC     125.0   92.12080    2.316501   81.6   91.4   92.20   93.30    96.20\n",
            "DMC      125.0  125.74000   52.585911   32.8   91.3  117.20  149.30   273.80\n",
            "DC       125.0  623.24960  134.678377  200.0  578.8  668.00  699.60   819.10\n",
            "ISI      125.0   10.50720    5.690473    1.9    7.2    9.20   12.70    56.10\n",
            "temp     125.0   21.97760    3.800994   14.6   19.4   21.30   24.30    33.30\n",
            "RH       125.0   38.21600    9.943862   21.0   30.0   37.00   44.00    67.00\n",
            "wind     125.0    3.56960    1.425925    0.9    2.7    3.60    4.50     8.90\n",
            "rain     125.0    0.00640    0.071554    0.0    0.0    0.00    0.00     0.80\n",
            "area     125.0   30.14816  122.725606    0.0    0.0    1.36    8.16  1090.84\n",
            "cluster  125.0    2.00000    0.000000    2.0    2.0    2.00    2.00     2.00\n",
            "         count    mean  std     min     25%     50%     75%     max\n",
            "X          1.0    7.00  NaN    7.00    7.00    7.00    7.00    7.00\n",
            "Y          1.0    5.00  NaN    5.00    5.00    5.00    5.00    5.00\n",
            "FFMC       1.0   96.10  NaN   96.10   96.10   96.10   96.10   96.10\n",
            "DMC        1.0  181.10  NaN  181.10  181.10  181.10  181.10  181.10\n",
            "DC         1.0  671.20  NaN  671.20  671.20  671.20  671.20  671.20\n",
            "ISI        1.0   14.30  NaN   14.30   14.30   14.30   14.30   14.30\n",
            "temp       1.0   27.30  NaN   27.30   27.30   27.30   27.30   27.30\n",
            "RH         1.0   63.00  NaN   63.00   63.00   63.00   63.00   63.00\n",
            "wind       1.0    4.90  NaN    4.90    4.90    4.90    4.90    4.90\n",
            "rain       1.0    6.40  NaN    6.40    6.40    6.40    6.40    6.40\n",
            "area       1.0   10.82  NaN   10.82   10.82   10.82   10.82   10.82\n",
            "cluster    1.0    3.00  NaN    3.00    3.00    3.00    3.00    3.00\n",
            "         count        mean         std    min     25%    50%     75%     max\n",
            "X         79.0    4.860759    2.128766    1.0    3.00    5.0    7.00    8.00\n",
            "Y         79.0    4.303797    0.938554    2.0    4.00    4.0    5.00    6.00\n",
            "FFMC      79.0   91.037975    2.352320   81.6   90.10   91.2   92.10   96.10\n",
            "DMC       79.0  155.727848   71.515896   41.5   99.00  139.4  203.20  291.30\n",
            "DC        79.0  693.664557  105.741914  309.9  648.50  709.9  748.95  860.60\n",
            "ISI       79.0    9.055696    3.682173    1.9    7.00    8.1   10.15   20.30\n",
            "temp      79.0   15.639241    3.623761    5.1   13.25   15.6   18.00   22.40\n",
            "RH        79.0   67.037975   10.446988   45.0   58.50   66.0   74.00   96.00\n",
            "wind      79.0    4.873418    1.843958    0.9    3.60    4.9    5.80    8.50\n",
            "rain      79.0    0.048101    0.215348    0.0    0.00    0.0    0.00    1.40\n",
            "area      79.0    5.371266   11.467355    0.0    0.00    0.0    3.83   54.29\n",
            "cluster   79.0    4.000000    0.000000    4.0    4.00    4.0    4.00    4.00\n"
          ],
          "name": "stdout"
        }
      ]
    },
    {
      "cell_type": "code",
      "metadata": {
        "id": "F3Ng2FPrrcTv"
      },
      "source": [
        "temp_means = [np.mean(segment['temp']) for segment in fire_segs]\n",
        "X_means = [np.mean(segment['X']) for segment in fire_segs]\n",
        "Y_means = [np.mean(segment['Y']) for segment in fire_segs]\n",
        "ffmc_means = [np.mean(segment['FFMC']) for segment in fire_segs]\n",
        "dmc_means = [np.mean(segment['DMC']) for segment in fire_segs]\n",
        "wind_means = [np.mean(segment['wind']) for segment in fire_segs]\n",
        "rain_means = [np.mean(segment['rain']) for segment in fire_segs]"
      ],
      "execution_count": 16,
      "outputs": []
    },
    {
      "cell_type": "code",
      "metadata": {
        "id": "REnaMGHFreEo"
      },
      "source": [
        "summary_df = pd.DataFrame({'Fire Segment': ['seg1', 'seg2', 'seg3', 'seg4', 'seg5'], 'Temp Means': temp_means,'X Means': X_means, 'Y Means': Y_means, 'FFMC Means': ffmc_means, 'DMC Means': dmc_means, 'Wind Means': wind_means, 'Rain Means': rain_means})"
      ],
      "execution_count": 17,
      "outputs": []
    },
    {
      "cell_type": "code",
      "metadata": {
        "colab": {
          "base_uri": "https://localhost:8080/",
          "height": 366
        },
        "id": "lcx28_1orfT7",
        "outputId": "9f92c920-5bcc-405d-d8d9-181673e4513c"
      },
      "source": [
        "sns.barplot(summary_df['Fire Segment'], summary_df['Temp Means'])\n",
        "plt.ylabel('Temp')\n",
        "plt.title('Mean Temperature for each Fire Segment')"
      ],
      "execution_count": 18,
      "outputs": [
        {
          "output_type": "stream",
          "text": [
            "/usr/local/lib/python3.7/dist-packages/seaborn/_decorators.py:43: FutureWarning: Pass the following variables as keyword args: x, y. From version 0.12, the only valid positional argument will be `data`, and passing other arguments without an explicit keyword will result in an error or misinterpretation.\n",
            "  FutureWarning\n"
          ],
          "name": "stderr"
        },
        {
          "output_type": "execute_result",
          "data": {
            "text/plain": [
              "Text(0.5, 1.0, 'Mean Temperature for each Fire Segment')"
            ]
          },
          "metadata": {},
          "execution_count": 18
        },
        {
          "output_type": "display_data",
          "data": {
            "image/png": "[encoded data removed]",
            "text/plain": [
              "<Figure size 432x288 with 1 Axes>"
            ]
          },
          "metadata": {
            "needs_background": "light"
          }
        }
      ]
    },
    {
      "cell_type": "code",
      "metadata": {
        "colab": {
          "base_uri": "https://localhost:8080/",
          "height": 298
        },
        "id": "oYEs2A8Zrgcl",
        "outputId": "38307dbb-2406-48af-d794-7e6bf7acb0da"
      },
      "source": [
        "plt.bar(summary_df['Fire Segment'], summary_df['X Means'])\n",
        "plt.ylabel('X')\n",
        "plt.title('Mean X for each Fire Segment')"
      ],
      "execution_count": 19,
      "outputs": [
        {
          "output_type": "execute_result",
          "data": {
            "text/plain": [
              "Text(0.5, 1.0, 'Mean X for each Fire Segment')"
            ]
          },
          "metadata": {},
          "execution_count": 19
        },
        {
          "output_type": "display_data",
          "data": {
            "image/png": "[encoded data removed]",
            "text/plain": [
              "<Figure size 432x288 with 1 Axes>"
            ]
          },
          "metadata": {
            "needs_background": "light"
          }
        }
      ]
    },
    {
      "cell_type": "code",
      "metadata": {
        "colab": {
          "base_uri": "https://localhost:8080/",
          "height": 298
        },
        "id": "evGJ8jBjriJ_",
        "outputId": "a207ac24-9721-4f50-a062-4b38af359f40"
      },
      "source": [
        "plt.bar(summary_df['Fire Segment'], summary_df['FFMC Means'])\n",
        "plt.ylabel('FFMC')\n",
        "plt.title('Mean Fine Fuel Moisture Code for each Fire Segment')"
      ],
      "execution_count": 20,
      "outputs": [
        {
          "output_type": "execute_result",
          "data": {
            "text/plain": [
              "Text(0.5, 1.0, 'Mean Fine Fuel Moisture Code for each Fire Segment')"
            ]
          },
          "metadata": {},
          "execution_count": 20
        },
        {
          "output_type": "display_data",
          "data": {
            "image/png": "[encoded data removed]",
            "text/plain": [
              "<Figure size 432x288 with 1 Axes>"
            ]
          },
          "metadata": {
            "needs_background": "light"
          }
        }
      ]
    },
    {
      "cell_type": "code",
      "metadata": {
        "colab": {
          "base_uri": "https://localhost:8080/",
          "height": 298
        },
        "id": "Urpw4WWbrjGt",
        "outputId": "a01e6e0e-1af6-4df1-d675-b008e7717d09"
      },
      "source": [
        "plt.bar(summary_df['Fire Segment'], summary_df['Wind Means'])\n",
        "plt.ylabel('Wind')\n",
        "plt.title('Mean Wind for each Fire Segment')"
      ],
      "execution_count": 21,
      "outputs": [
        {
          "output_type": "execute_result",
          "data": {
            "text/plain": [
              "Text(0.5, 1.0, 'Mean Wind for each Fire Segment')"
            ]
          },
          "metadata": {},
          "execution_count": 21
        },
        {
          "output_type": "display_data",
          "data": {
            "image/png": "[encoded data removed]",
            "text/plain": [
              "<Figure size 432x288 with 1 Axes>"
            ]
          },
          "metadata": {
            "needs_background": "light"
          }
        }
      ]
    },
    {
      "cell_type": "code",
      "metadata": {
        "id": "e5mgMp0DrkVN"
      },
      "source": [
        "from sklearn.cluster import KMeans, DBSCAN, AgglomerativeClustering\n",
        "from sklearn.metrics import silhouette_score\n",
        "import scipy.cluster.hierarchy as sch"
      ],
      "execution_count": 22,
      "outputs": []
    },
    {
      "cell_type": "code",
      "metadata": {
        "colab": {
          "base_uri": "https://localhost:8080/",
          "height": 204
        },
        "id": "9_TVpNNHrlWd",
        "outputId": "ed03ff7d-d8e7-4007-d1d0-b0a55b9e8b8b"
      },
      "source": [
        "df.head()"
      ],
      "execution_count": 23,
      "outputs": [
        {
          "output_type": "execute_result",
          "data": {
            "text/html": [
              "<div>\n",
              "<style scoped>\n",
              "    .dataframe tbody tr th:only-of-type {\n",
              "        vertical-align: middle;\n",
              "    }\n",
              "\n",
              "    .dataframe tbody tr th {\n",
              "        vertical-align: top;\n",
              "    }\n",
              "\n",
              "    .dataframe thead th {\n",
              "        text-align: right;\n",
              "    }\n",
              "</style>\n",
              "<table border=\"1\" class=\"dataframe\">\n",
              "  <thead>\n",
              "    <tr style=\"text-align: right;\">\n",
              "      <th></th>\n",
              "      <th>X</th>\n",
              "      <th>Y</th>\n",
              "      <th>month</th>\n",
              "      <th>day</th>\n",
              "      <th>FFMC</th>\n",
              "      <th>DMC</th>\n",
              "      <th>DC</th>\n",
              "      <th>ISI</th>\n",
              "      <th>temp</th>\n",
              "      <th>RH</th>\n",
              "      <th>wind</th>\n",
              "      <th>rain</th>\n",
              "      <th>area</th>\n",
              "      <th>cluster</th>\n",
              "    </tr>\n",
              "  </thead>\n",
              "  <tbody>\n",
              "    <tr>\n",
              "      <th>0</th>\n",
              "      <td>7</td>\n",
              "      <td>5</td>\n",
              "      <td>mar</td>\n",
              "      <td>fri</td>\n",
              "      <td>86.2</td>\n",
              "      <td>26.2</td>\n",
              "      <td>94.3</td>\n",
              "      <td>5.1</td>\n",
              "      <td>8.2</td>\n",
              "      <td>51</td>\n",
              "      <td>6.7</td>\n",
              "      <td>0.0</td>\n",
              "      <td>0.0</td>\n",
              "      <td>0</td>\n",
              "    </tr>\n",
              "    <tr>\n",
              "      <th>1</th>\n",
              "      <td>7</td>\n",
              "      <td>4</td>\n",
              "      <td>oct</td>\n",
              "      <td>tue</td>\n",
              "      <td>90.6</td>\n",
              "      <td>35.4</td>\n",
              "      <td>669.1</td>\n",
              "      <td>6.7</td>\n",
              "      <td>18.0</td>\n",
              "      <td>33</td>\n",
              "      <td>0.9</td>\n",
              "      <td>0.0</td>\n",
              "      <td>0.0</td>\n",
              "      <td>2</td>\n",
              "    </tr>\n",
              "    <tr>\n",
              "      <th>2</th>\n",
              "      <td>7</td>\n",
              "      <td>4</td>\n",
              "      <td>oct</td>\n",
              "      <td>sat</td>\n",
              "      <td>90.6</td>\n",
              "      <td>43.7</td>\n",
              "      <td>686.9</td>\n",
              "      <td>6.7</td>\n",
              "      <td>14.6</td>\n",
              "      <td>33</td>\n",
              "      <td>1.3</td>\n",
              "      <td>0.0</td>\n",
              "      <td>0.0</td>\n",
              "      <td>2</td>\n",
              "    </tr>\n",
              "    <tr>\n",
              "      <th>3</th>\n",
              "      <td>8</td>\n",
              "      <td>6</td>\n",
              "      <td>mar</td>\n",
              "      <td>fri</td>\n",
              "      <td>91.7</td>\n",
              "      <td>33.3</td>\n",
              "      <td>77.5</td>\n",
              "      <td>9.0</td>\n",
              "      <td>8.3</td>\n",
              "      <td>97</td>\n",
              "      <td>4.0</td>\n",
              "      <td>0.2</td>\n",
              "      <td>0.0</td>\n",
              "      <td>0</td>\n",
              "    </tr>\n",
              "    <tr>\n",
              "      <th>4</th>\n",
              "      <td>8</td>\n",
              "      <td>6</td>\n",
              "      <td>mar</td>\n",
              "      <td>sun</td>\n",
              "      <td>89.3</td>\n",
              "      <td>51.3</td>\n",
              "      <td>102.2</td>\n",
              "      <td>9.6</td>\n",
              "      <td>11.4</td>\n",
              "      <td>99</td>\n",
              "      <td>1.8</td>\n",
              "      <td>0.0</td>\n",
              "      <td>0.0</td>\n",
              "      <td>0</td>\n",
              "    </tr>\n",
              "  </tbody>\n",
              "</table>\n",
              "</div>"
            ],
            "text/plain": [
              "   X  Y month  day  FFMC   DMC     DC  ISI  temp  RH  wind  rain  area  cluster\n",
              "0  7  5   mar  fri  86.2  26.2   94.3  5.1   8.2  51   6.7   0.0   0.0        0\n",
              "1  7  4   oct  tue  90.6  35.4  669.1  6.7  18.0  33   0.9   0.0   0.0        2\n",
              "2  7  4   oct  sat  90.6  43.7  686.9  6.7  14.6  33   1.3   0.0   0.0        2\n",
              "3  8  6   mar  fri  91.7  33.3   77.5  9.0   8.3  97   4.0   0.2   0.0        0\n",
              "4  8  6   mar  sun  89.3  51.3  102.2  9.6  11.4  99   1.8   0.0   0.0        0"
            ]
          },
          "metadata": {},
          "execution_count": 23
        }
      ]
    },
    {
      "cell_type": "code",
      "metadata": {
        "id": "lP-AHe8YrmGg"
      },
      "source": [
        "scaler = StandardScaler()\n",
        "scaled_df = scaler.fit_transform(X)"
      ],
      "execution_count": 24,
      "outputs": []
    },
    {
      "cell_type": "code",
      "metadata": {
        "colab": {
          "base_uri": "https://localhost:8080/",
          "height": 279
        },
        "id": "65b6DEwHrnBf",
        "outputId": "526af092-a6c0-4460-cde8-5a6888db89f9"
      },
      "source": [
        "silhouette_scores = []\n",
        "for i in range(2, 11):\n",
        "  kmeans = KMeans(n_clusters = i)\n",
        "  kmeans.fit(scaled_df)\n",
        "  silhouette_scores.append(silhouette_score(scaled_df, kmeans.labels_))\n",
        "plt.plot(range(2, 11), silhouette_scores, marker = '.')\n",
        "plt.xlabel('Number of Clusters')\n",
        "plt.ylabel('Silhouette Score');"
      ],
      "execution_count": 25,
      "outputs": [
        {
          "output_type": "display_data",
          "data": {
            "image/png": "[encoded data removed]",
            "text/plain": [
              "<Figure size 432x288 with 1 Axes>"
            ]
          },
          "metadata": {
            "needs_background": "light"
          }
        }
      ]
    },
    {
      "cell_type": "code",
      "metadata": {
        "colab": {
          "base_uri": "https://localhost:8080/"
        },
        "id": "yjqpj7VPsK-u",
        "outputId": "ba96fb78-14f1-47a8-8a95-e8cf2f956855"
      },
      "source": [
        "kmeans = KMeans(n_clusters = 2)\n",
        "kmeans.fit(scaled_df)"
      ],
      "execution_count": 38,
      "outputs": [
        {
          "output_type": "execute_result",
          "data": {
            "text/plain": [
              "KMeans(algorithm='auto', copy_x=True, init='k-means++', max_iter=300,\n",
              "       n_clusters=2, n_init=10, n_jobs=None, precompute_distances='auto',\n",
              "       random_state=None, tol=0.0001, verbose=0)"
            ]
          },
          "metadata": {},
          "execution_count": 38
        }
      ]
    },
    {
      "cell_type": "code",
      "metadata": {
        "id": "G23Jy0yGsK8d"
      },
      "source": [
        "df['kmeans_cluster'] = kmeans.labels_"
      ],
      "execution_count": 39,
      "outputs": []
    },
    {
      "cell_type": "code",
      "metadata": {
        "id": "ahwH1Py7r3vN"
      },
      "source": [
        ""
      ],
      "execution_count": null,
      "outputs": []
    }
  ]
}