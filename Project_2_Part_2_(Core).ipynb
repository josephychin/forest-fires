{
  "nbformat": 4,
  "nbformat_minor": 0,
  "metadata": {
    "colab": {
      "name": "Project 2 - Part 2 (Core).ipynb",
      "provenance": [],
      "collapsed_sections": []
    },
    "kernelspec": {
      "name": "python3",
      "display_name": "Python 3"
    },
    "language_info": {
      "name": "python"
    }
  },
  "cells": [
    {
      "cell_type": "markdown",
      "metadata": {
        "id": "7azUDx893JsF"
      },
      "source": [
        "Project 2 - Part 2 (Core)\n",
        "\n",
        "Your second project is going to have a lot more freedom than your first project. This is because we want you to have a project in your portfolio that interests you or relates to the industry you would like to work in.\n",
        "\n",
        "Your task for this week is to start cleaning and exploring the data you selected last week. Make sure to check the quality of the data - do you need to deal with missing values? Are there any outliers? Etc. Also start exploring your data - look for trends, create visualizations, etc.\n",
        "\n",
        "If you have not already done so, make sure to create a GitHub repository for this project. Commit your data and any work you do on data cleaning to the repository.\n",
        "\n",
        "1. X - x-axis spatial coordinate within the Montesinho park map: 1 to 9\n",
        "2. Y - y-axis spatial coordinate within the Montesinho park map: 2 to 9\n",
        "3. month - month of the year: 'jan' to 'dec'\n",
        "4. day - day of the week: 'mon' to 'sun'\n",
        "5. FFMC - FFMC (Fine Fuel Moisture Code) index from the FWI system: 18.7 to 96.20\n",
        "6. DMC - DMC (Duff Moisture Code) index from the FWI system: 1.1 to 291.3\n",
        "7. DC - DC (Drought Code) index from the FWI system: 7.9 to 860.6\n",
        "8. ISI - (Initial Spead Index) ISI index from the FWI system: 0.0 to 56.10\n",
        "9. temp - temperature in Celsius degrees: 2.2 to 33.30\n",
        "10. RH - relative humidity in %: 15.0 to 100\n",
        "11. wind - wind speed in km/h: 0.40 to 9.40\n",
        "12. rain - outside rain in mm/m2 : 0.0 to 6.4\n",
        "13. area - the burned area of the forest (in ha): 0.00 to 1090.84\n",
        "(this output variable is very skewed towards 0.0, thus it may make\n",
        "sense to model with the logarithm transform)."
      ]
    },
    {
      "cell_type": "code",
      "metadata": {
        "id": "XY9YsEr73Gey",
        "colab": {
          "base_uri": "https://localhost:8080/"
        },
        "outputId": "64fa8c35-ddfe-4b5f-a3a1-8b73a6483b07"
      },
      "source": [
        "from google.colab import drive\n",
        "drive.mount('/content/drive')"
      ],
      "execution_count": 1,
      "outputs": [
        {
          "output_type": "stream",
          "text": [
            "Mounted at /content/drive\n"
          ],
          "name": "stdout"
        }
      ]
    },
    {
      "cell_type": "code",
      "metadata": {
        "id": "qPbdAy_qnfY9"
      },
      "source": [
        "import pandas as pd\n",
        "import numpy as np\n",
        "import matplotlib.pyplot as plt\n",
        "import seaborn as sns\n",
        "from sklearn.model_selection import train_test_split\n",
        "from sklearn.linear_model import LinearRegression\n"
      ],
      "execution_count": 21,
      "outputs": []
    },
    {
      "cell_type": "code",
      "metadata": {
        "colab": {
          "base_uri": "https://localhost:8080/",
          "height": 204
        },
        "id": "nh0UXs1-ny6k",
        "outputId": "0da18dba-c79d-4031-eca4-919c9e89586e"
      },
      "source": [
        "df = pd.read_csv('/content/drive/MyDrive/Coding Dojo/PandasForDataManipulation/forestfires.csv')\n",
        "df.head()"
      ],
      "execution_count": 22,
      "outputs": [
        {
          "output_type": "execute_result",
          "data": {
            "text/html": [
              "<div>\n",
              "<style scoped>\n",
              "    .dataframe tbody tr th:only-of-type {\n",
              "        vertical-align: middle;\n",
              "    }\n",
              "\n",
              "    .dataframe tbody tr th {\n",
              "        vertical-align: top;\n",
              "    }\n",
              "\n",
              "    .dataframe thead th {\n",
              "        text-align: right;\n",
              "    }\n",
              "</style>\n",
              "<table border=\"1\" class=\"dataframe\">\n",
              "  <thead>\n",
              "    <tr style=\"text-align: right;\">\n",
              "      <th></th>\n",
              "      <th>X</th>\n",
              "      <th>Y</th>\n",
              "      <th>month</th>\n",
              "      <th>day</th>\n",
              "      <th>FFMC</th>\n",
              "      <th>DMC</th>\n",
              "      <th>DC</th>\n",
              "      <th>ISI</th>\n",
              "      <th>temp</th>\n",
              "      <th>RH</th>\n",
              "      <th>wind</th>\n",
              "      <th>rain</th>\n",
              "      <th>area</th>\n",
              "    </tr>\n",
              "  </thead>\n",
              "  <tbody>\n",
              "    <tr>\n",
              "      <th>0</th>\n",
              "      <td>7</td>\n",
              "      <td>5</td>\n",
              "      <td>mar</td>\n",
              "      <td>fri</td>\n",
              "      <td>86.2</td>\n",
              "      <td>26.2</td>\n",
              "      <td>94.3</td>\n",
              "      <td>5.1</td>\n",
              "      <td>8.2</td>\n",
              "      <td>51</td>\n",
              "      <td>6.7</td>\n",
              "      <td>0.0</td>\n",
              "      <td>0.0</td>\n",
              "    </tr>\n",
              "    <tr>\n",
              "      <th>1</th>\n",
              "      <td>7</td>\n",
              "      <td>4</td>\n",
              "      <td>oct</td>\n",
              "      <td>tue</td>\n",
              "      <td>90.6</td>\n",
              "      <td>35.4</td>\n",
              "      <td>669.1</td>\n",
              "      <td>6.7</td>\n",
              "      <td>18.0</td>\n",
              "      <td>33</td>\n",
              "      <td>0.9</td>\n",
              "      <td>0.0</td>\n",
              "      <td>0.0</td>\n",
              "    </tr>\n",
              "    <tr>\n",
              "      <th>2</th>\n",
              "      <td>7</td>\n",
              "      <td>4</td>\n",
              "      <td>oct</td>\n",
              "      <td>sat</td>\n",
              "      <td>90.6</td>\n",
              "      <td>43.7</td>\n",
              "      <td>686.9</td>\n",
              "      <td>6.7</td>\n",
              "      <td>14.6</td>\n",
              "      <td>33</td>\n",
              "      <td>1.3</td>\n",
              "      <td>0.0</td>\n",
              "      <td>0.0</td>\n",
              "    </tr>\n",
              "    <tr>\n",
              "      <th>3</th>\n",
              "      <td>8</td>\n",
              "      <td>6</td>\n",
              "      <td>mar</td>\n",
              "      <td>fri</td>\n",
              "      <td>91.7</td>\n",
              "      <td>33.3</td>\n",
              "      <td>77.5</td>\n",
              "      <td>9.0</td>\n",
              "      <td>8.3</td>\n",
              "      <td>97</td>\n",
              "      <td>4.0</td>\n",
              "      <td>0.2</td>\n",
              "      <td>0.0</td>\n",
              "    </tr>\n",
              "    <tr>\n",
              "      <th>4</th>\n",
              "      <td>8</td>\n",
              "      <td>6</td>\n",
              "      <td>mar</td>\n",
              "      <td>sun</td>\n",
              "      <td>89.3</td>\n",
              "      <td>51.3</td>\n",
              "      <td>102.2</td>\n",
              "      <td>9.6</td>\n",
              "      <td>11.4</td>\n",
              "      <td>99</td>\n",
              "      <td>1.8</td>\n",
              "      <td>0.0</td>\n",
              "      <td>0.0</td>\n",
              "    </tr>\n",
              "  </tbody>\n",
              "</table>\n",
              "</div>"
            ],
            "text/plain": [
              "   X  Y month  day  FFMC   DMC     DC  ISI  temp  RH  wind  rain  area\n",
              "0  7  5   mar  fri  86.2  26.2   94.3  5.1   8.2  51   6.7   0.0   0.0\n",
              "1  7  4   oct  tue  90.6  35.4  669.1  6.7  18.0  33   0.9   0.0   0.0\n",
              "2  7  4   oct  sat  90.6  43.7  686.9  6.7  14.6  33   1.3   0.0   0.0\n",
              "3  8  6   mar  fri  91.7  33.3   77.5  9.0   8.3  97   4.0   0.2   0.0\n",
              "4  8  6   mar  sun  89.3  51.3  102.2  9.6  11.4  99   1.8   0.0   0.0"
            ]
          },
          "metadata": {
            "tags": []
          },
          "execution_count": 22
        }
      ]
    },
    {
      "cell_type": "code",
      "metadata": {
        "colab": {
          "base_uri": "https://localhost:8080/"
        },
        "id": "EiPEWEdIn-IK",
        "outputId": "0867f1c3-7953-4d95-ecb9-90098d2f3649"
      },
      "source": [
        "df.info()"
      ],
      "execution_count": 23,
      "outputs": [
        {
          "output_type": "stream",
          "text": [
            "<class 'pandas.core.frame.DataFrame'>\n",
            "RangeIndex: 517 entries, 0 to 516\n",
            "Data columns (total 13 columns):\n",
            " #   Column  Non-Null Count  Dtype  \n",
            "---  ------  --------------  -----  \n",
            " 0   X       517 non-null    int64  \n",
            " 1   Y       517 non-null    int64  \n",
            " 2   month   517 non-null    object \n",
            " 3   day     517 non-null    object \n",
            " 4   FFMC    517 non-null    float64\n",
            " 5   DMC     517 non-null    float64\n",
            " 6   DC      517 non-null    float64\n",
            " 7   ISI     517 non-null    float64\n",
            " 8   temp    517 non-null    float64\n",
            " 9   RH      517 non-null    int64  \n",
            " 10  wind    517 non-null    float64\n",
            " 11  rain    517 non-null    float64\n",
            " 12  area    517 non-null    float64\n",
            "dtypes: float64(8), int64(3), object(2)\n",
            "memory usage: 52.6+ KB\n"
          ],
          "name": "stdout"
        }
      ]
    },
    {
      "cell_type": "code",
      "metadata": {
        "colab": {
          "base_uri": "https://localhost:8080/"
        },
        "id": "i2eizYQHoXMq",
        "outputId": "6a6ada28-0f58-4605-c57e-2fb20436fed5"
      },
      "source": [
        "df.shape"
      ],
      "execution_count": 24,
      "outputs": [
        {
          "output_type": "execute_result",
          "data": {
            "text/plain": [
              "(517, 13)"
            ]
          },
          "metadata": {
            "tags": []
          },
          "execution_count": 24
        }
      ]
    },
    {
      "cell_type": "code",
      "metadata": {
        "colab": {
          "base_uri": "https://localhost:8080/"
        },
        "id": "70kHd46RoaJu",
        "outputId": "6ffbe35d-365b-486c-f428-275e49fea9fd"
      },
      "source": [
        "df.isnull().count()"
      ],
      "execution_count": 25,
      "outputs": [
        {
          "output_type": "execute_result",
          "data": {
            "text/plain": [
              "X        517\n",
              "Y        517\n",
              "month    517\n",
              "day      517\n",
              "FFMC     517\n",
              "DMC      517\n",
              "DC       517\n",
              "ISI      517\n",
              "temp     517\n",
              "RH       517\n",
              "wind     517\n",
              "rain     517\n",
              "area     517\n",
              "dtype: int64"
            ]
          },
          "metadata": {
            "tags": []
          },
          "execution_count": 25
        }
      ]
    },
    {
      "cell_type": "code",
      "metadata": {
        "colab": {
          "base_uri": "https://localhost:8080/",
          "height": 502
        },
        "id": "RWsFkKQmobO3",
        "outputId": "f87719fd-cf81-48c6-b74f-a04acd1474c9"
      },
      "source": [
        "df[['FFMC', 'DMC', 'DC', 'ISI', 'temp', 'RH', 'wind', 'rain', 'area', 'X', 'Y']].hist()"
      ],
      "execution_count": 33,
      "outputs": [
        {
          "output_type": "execute_result",
          "data": {
            "text/plain": [
              "array([[<matplotlib.axes._subplots.AxesSubplot object at 0x7f8fd92a0390>,\n",
              "        <matplotlib.axes._subplots.AxesSubplot object at 0x7f8fd8d23f10>,\n",
              "        <matplotlib.axes._subplots.AxesSubplot object at 0x7f8fd8c43510>],\n",
              "       [<matplotlib.axes._subplots.AxesSubplot object at 0x7f8fd8c01d50>,\n",
              "        <matplotlib.axes._subplots.AxesSubplot object at 0x7f8fd8c2fdd0>,\n",
              "        <matplotlib.axes._subplots.AxesSubplot object at 0x7f8fd8bf2390>],\n",
              "       [<matplotlib.axes._subplots.AxesSubplot object at 0x7f8fd8ba7910>,\n",
              "        <matplotlib.axes._subplots.AxesSubplot object at 0x7f8fd8b67f50>,\n",
              "        <matplotlib.axes._subplots.AxesSubplot object at 0x7f8fd8b73050>],\n",
              "       [<matplotlib.axes._subplots.AxesSubplot object at 0x7f8fd8b28650>,\n",
              "        <matplotlib.axes._subplots.AxesSubplot object at 0x7f8fd8a8af50>,\n",
              "        <matplotlib.axes._subplots.AxesSubplot object at 0x7f8fd8a4e510>]],\n",
              "      dtype=object)"
            ]
          },
          "metadata": {
            "tags": []
          },
          "execution_count": 33
        },
        {
          "output_type": "display_data",
          "data": {
            "image/png": "[encoded data removed]",
            "text/plain": [
              "<Figure size 432x288 with 12 Axes>"
            ]
          },
          "metadata": {
            "tags": [],
            "needs_background": "light"
          }
        }
      ]
    },
    {
      "cell_type": "code",
      "metadata": {
        "colab": {
          "base_uri": "https://localhost:8080/",
          "height": 282
        },
        "id": "pgCbJXO7pGxq",
        "outputId": "45152dc6-7b91-43db-fd96-e68183a253ae"
      },
      "source": [
        "plt.bar(df['month'].values, df['month'].index)"
      ],
      "execution_count": 31,
      "outputs": [
        {
          "output_type": "execute_result",
          "data": {
            "text/plain": [
              "<BarContainer object of 517 artists>"
            ]
          },
          "metadata": {
            "tags": []
          },
          "execution_count": 31
        },
        {
          "output_type": "display_data",
          "data": {
            "image/png": "[encoded data removed]",
            "text/plain": [
              "<Figure size 432x288 with 1 Axes>"
            ]
          },
          "metadata": {
            "tags": [],
            "needs_background": "light"
          }
        }
      ]
    },
    {
      "cell_type": "code",
      "metadata": {
        "colab": {
          "base_uri": "https://localhost:8080/",
          "height": 282
        },
        "id": "9hBfVP2gpvU4",
        "outputId": "e3ff3b68-0902-454e-ff45-1a6a08422cad"
      },
      "source": [
        "plt.bar(df['day'].values, df['day'].index)"
      ],
      "execution_count": 32,
      "outputs": [
        {
          "output_type": "execute_result",
          "data": {
            "text/plain": [
              "<BarContainer object of 517 artists>"
            ]
          },
          "metadata": {
            "tags": []
          },
          "execution_count": 32
        },
        {
          "output_type": "display_data",
          "data": {
            "image/png": "[encoded data removed]",
            "text/plain": [
              "<Figure size 432x288 with 1 Axes>"
            ]
          },
          "metadata": {
            "tags": [],
            "needs_background": "light"
          }
        }
      ]
    },
    {
      "cell_type": "code",
      "metadata": {
        "colab": {
          "base_uri": "https://localhost:8080/"
        },
        "id": "pIumxW78r-k2",
        "outputId": "3701680a-ff2a-4e9f-e37c-2fb68d1c33be"
      },
      "source": [
        "df.info()"
      ],
      "execution_count": 34,
      "outputs": [
        {
          "output_type": "stream",
          "text": [
            "<class 'pandas.core.frame.DataFrame'>\n",
            "RangeIndex: 517 entries, 0 to 516\n",
            "Data columns (total 13 columns):\n",
            " #   Column  Non-Null Count  Dtype  \n",
            "---  ------  --------------  -----  \n",
            " 0   X       517 non-null    int64  \n",
            " 1   Y       517 non-null    int64  \n",
            " 2   month   517 non-null    object \n",
            " 3   day     517 non-null    object \n",
            " 4   FFMC    517 non-null    float64\n",
            " 5   DMC     517 non-null    float64\n",
            " 6   DC      517 non-null    float64\n",
            " 7   ISI     517 non-null    float64\n",
            " 8   temp    517 non-null    float64\n",
            " 9   RH      517 non-null    int64  \n",
            " 10  wind    517 non-null    float64\n",
            " 11  rain    517 non-null    float64\n",
            " 12  area    517 non-null    float64\n",
            "dtypes: float64(8), int64(3), object(2)\n",
            "memory usage: 52.6+ KB\n"
          ],
          "name": "stdout"
        }
      ]
    },
    {
      "cell_type": "code",
      "metadata": {
        "colab": {
          "base_uri": "https://localhost:8080/",
          "height": 996
        },
        "id": "2tfOqTNlqRJq",
        "outputId": "ace2781d-c2e5-43e7-b2a8-a166bb47bce5"
      },
      "source": [
        "# plt.boxplot(['X', 'Y', 'FFMC', 'DMC', 'DC', 'ISI', 'temp', 'RH', 'wind', 'rain', 'area'])\n",
        "plt.boxplot([df['FFMC'], df['ISI'], df['temp'], df['RH'], df['wind'], df['rain']])"
      ],
      "execution_count": 52,
      "outputs": [
        {
          "output_type": "execute_result",
          "data": {
            "text/plain": [
              "{'boxes': [<matplotlib.lines.Line2D at 0x7f8fc9e11050>,\n",
              "  <matplotlib.lines.Line2D at 0x7f8fc9e1f590>,\n",
              "  <matplotlib.lines.Line2D at 0x7f8fc9e2f8d0>,\n",
              "  <matplotlib.lines.Line2D at 0x7f8fc9dc1cd0>,\n",
              "  <matplotlib.lines.Line2D at 0x7f8fc9ddd0d0>,\n",
              "  <matplotlib.lines.Line2D at 0x7f8fc9ded490>],\n",
              " 'caps': [<matplotlib.lines.Line2D at 0x7f8fc9e17050>,\n",
              "  <matplotlib.lines.Line2D at 0x7f8fc9e17590>,\n",
              "  <matplotlib.lines.Line2D at 0x7f8fc9e27490>,\n",
              "  <matplotlib.lines.Line2D at 0x7f8fc9e27990>,\n",
              "  <matplotlib.lines.Line2D at 0x7f8fc9e38850>,\n",
              "  <matplotlib.lines.Line2D at 0x7f8fc9e38d90>,\n",
              "  <matplotlib.lines.Line2D at 0x7f8fc9dc7c10>,\n",
              "  <matplotlib.lines.Line2D at 0x7f8fc9dd5150>,\n",
              "  <matplotlib.lines.Line2D at 0x7f8fc9dddfd0>,\n",
              "  <matplotlib.lines.Line2D at 0x7f8fc9de54d0>,\n",
              "  <matplotlib.lines.Line2D at 0x7f8fc9df63d0>,\n",
              "  <matplotlib.lines.Line2D at 0x7f8fc9df68d0>],\n",
              " 'fliers': [<matplotlib.lines.Line2D at 0x7f8fc9e1f090>,\n",
              "  <matplotlib.lines.Line2D at 0x7f8fc9e2f3d0>,\n",
              "  <matplotlib.lines.Line2D at 0x7f8fc9dc17d0>,\n",
              "  <matplotlib.lines.Line2D at 0x7f8fc9dd5b50>,\n",
              "  <matplotlib.lines.Line2D at 0x7f8fc9de5f10>,\n",
              "  <matplotlib.lines.Line2D at 0x7f8fc9d7f310>],\n",
              " 'means': [],\n",
              " 'medians': [<matplotlib.lines.Line2D at 0x7f8fc9e17b10>,\n",
              "  <matplotlib.lines.Line2D at 0x7f8fc9e27e90>,\n",
              "  <matplotlib.lines.Line2D at 0x7f8fc9dc12d0>,\n",
              "  <matplotlib.lines.Line2D at 0x7f8fc9dd5650>,\n",
              "  <matplotlib.lines.Line2D at 0x7f8fc9de59d0>,\n",
              "  <matplotlib.lines.Line2D at 0x7f8fc9df6dd0>],\n",
              " 'whiskers': [<matplotlib.lines.Line2D at 0x7f8fc9e11590>,\n",
              "  <matplotlib.lines.Line2D at 0x7f8fc9e11ad0>,\n",
              "  <matplotlib.lines.Line2D at 0x7f8fc9e1fa90>,\n",
              "  <matplotlib.lines.Line2D at 0x7f8fc9e1ff50>,\n",
              "  <matplotlib.lines.Line2D at 0x7f8fc9e2fdd0>,\n",
              "  <matplotlib.lines.Line2D at 0x7f8fc9e38350>,\n",
              "  <matplotlib.lines.Line2D at 0x7f8fc9dc7210>,\n",
              "  <matplotlib.lines.Line2D at 0x7f8fc9dc7710>,\n",
              "  <matplotlib.lines.Line2D at 0x7f8fc9ddd610>,\n",
              "  <matplotlib.lines.Line2D at 0x7f8fc9dddad0>,\n",
              "  <matplotlib.lines.Line2D at 0x7f8fc9ded990>,\n",
              "  <matplotlib.lines.Line2D at 0x7f8fc9dede90>]}"
            ]
          },
          "metadata": {
            "tags": []
          },
          "execution_count": 52
        },
        {
          "output_type": "display_data",
          "data": {
            "image/png": "[encoded data removed]",
            "text/plain": [
              "<Figure size 432x288 with 1 Axes>"
            ]
          },
          "metadata": {
            "tags": [],
            "needs_background": "light"
          }
        }
      ]
    },
    {
      "cell_type": "code",
      "metadata": {
        "colab": {
          "base_uri": "https://localhost:8080/",
          "height": 639
        },
        "id": "7fNcrGK9sLEc",
        "outputId": "738f7489-8597-4386-c5c6-6aee9203eb05"
      },
      "source": [
        "plt.boxplot([df['DMC'], df['DC'], df['area']])\n"
      ],
      "execution_count": 56,
      "outputs": [
        {
          "output_type": "execute_result",
          "data": {
            "text/plain": [
              "{'boxes': [<matplotlib.lines.Line2D at 0x7f8fc9bd8250>,\n",
              "  <matplotlib.lines.Line2D at 0x7f8fc9be5790>,\n",
              "  <matplotlib.lines.Line2D at 0x7f8fc9bf6ad0>],\n",
              " 'caps': [<matplotlib.lines.Line2D at 0x7f8fc9bdd250>,\n",
              "  <matplotlib.lines.Line2D at 0x7f8fc9bdd790>,\n",
              "  <matplotlib.lines.Line2D at 0x7f8fc9bee690>,\n",
              "  <matplotlib.lines.Line2D at 0x7f8fc9beeb90>,\n",
              "  <matplotlib.lines.Line2D at 0x7f8fc9b81a50>,\n",
              "  <matplotlib.lines.Line2D at 0x7f8fc9b81f90>],\n",
              " 'fliers': [<matplotlib.lines.Line2D at 0x7f8fc9be5290>,\n",
              "  <matplotlib.lines.Line2D at 0x7f8fc9bf65d0>,\n",
              "  <matplotlib.lines.Line2D at 0x7f8fc9b889d0>],\n",
              " 'means': [],\n",
              " 'medians': [<matplotlib.lines.Line2D at 0x7f8fc9bddd10>,\n",
              "  <matplotlib.lines.Line2D at 0x7f8fc9bf60d0>,\n",
              "  <matplotlib.lines.Line2D at 0x7f8fc9b884d0>],\n",
              " 'whiskers': [<matplotlib.lines.Line2D at 0x7f8fc9bd8790>,\n",
              "  <matplotlib.lines.Line2D at 0x7f8fc9bd8cd0>,\n",
              "  <matplotlib.lines.Line2D at 0x7f8fc9be5c90>,\n",
              "  <matplotlib.lines.Line2D at 0x7f8fc9bee190>,\n",
              "  <matplotlib.lines.Line2D at 0x7f8fc9bf6fd0>,\n",
              "  <matplotlib.lines.Line2D at 0x7f8fc9b81550>]}"
            ]
          },
          "metadata": {
            "tags": []
          },
          "execution_count": 56
        },
        {
          "output_type": "display_data",
          "data": {
            "image/png": "[encoded data removed]",
            "text/plain": [
              "<Figure size 432x288 with 1 Axes>"
            ]
          },
          "metadata": {
            "tags": [],
            "needs_background": "light"
          }
        }
      ]
    },
    {
      "cell_type": "code",
      "metadata": {
        "colab": {
          "base_uri": "https://localhost:8080/",
          "height": 520
        },
        "id": "FTWFkJeKuOOA",
        "outputId": "5149f922-71db-435b-acd3-6c84e306d464"
      },
      "source": [
        "plt.boxplot([df['X'], df['Y']])"
      ],
      "execution_count": 58,
      "outputs": [
        {
          "output_type": "execute_result",
          "data": {
            "text/plain": [
              "{'boxes': [<matplotlib.lines.Line2D at 0x7f8fc9adabd0>,\n",
              "  <matplotlib.lines.Line2D at 0x7f8fc9af1110>],\n",
              " 'caps': [<matplotlib.lines.Line2D at 0x7f8fc9ae2bd0>,\n",
              "  <matplotlib.lines.Line2D at 0x7f8fc9ae9150>,\n",
              "  <matplotlib.lines.Line2D at 0x7f8fc9a7c050>,\n",
              "  <matplotlib.lines.Line2D at 0x7f8fc9a7c550>],\n",
              " 'fliers': [<matplotlib.lines.Line2D at 0x7f8fc9ae9c10>,\n",
              "  <matplotlib.lines.Line2D at 0x7f8fc9a7cf50>],\n",
              " 'means': [],\n",
              " 'medians': [<matplotlib.lines.Line2D at 0x7f8fc9ae96d0>,\n",
              "  <matplotlib.lines.Line2D at 0x7f8fc9a7ca50>],\n",
              " 'whiskers': [<matplotlib.lines.Line2D at 0x7f8fc9ae2150>,\n",
              "  <matplotlib.lines.Line2D at 0x7f8fc9ae2690>,\n",
              "  <matplotlib.lines.Line2D at 0x7f8fc9af1650>,\n",
              "  <matplotlib.lines.Line2D at 0x7f8fc9af1b10>]}"
            ]
          },
          "metadata": {
            "tags": []
          },
          "execution_count": 58
        },
        {
          "output_type": "display_data",
          "data": {
            "image/png": "[encoded data removed]",
            "text/plain": [
              "<Figure size 432x288 with 1 Axes>"
            ]
          },
          "metadata": {
            "tags": [],
            "needs_background": "light"
          }
        }
      ]
    },
    {
      "cell_type": "code",
      "metadata": {
        "id": "wISfpCyqudAs"
      },
      "source": [
        ""
      ],
      "execution_count": null,
      "outputs": []
    }
  ]
}