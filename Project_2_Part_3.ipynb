{
  "nbformat": 4,
  "nbformat_minor": 0,
  "metadata": {
    "colab": {
      "name": "Project 2 - Part 3.ipynb",
      "provenance": [],
      "collapsed_sections": [],
      "authorship_tag": "ABX9TyPdlF3davWBoY5womVjhzTg",
      "include_colab_link": true
    },
    "kernelspec": {
      "name": "python3",
      "display_name": "Python 3"
    },
    "language_info": {
      "name": "python"
    }
  },
  "cells": [
    {
      "cell_type": "markdown",
      "metadata": {
        "id": "view-in-github",
        "colab_type": "text"
      },
      "source": [
        "<a href=\"https://colab.research.google.com/github/josephychin/forest-fires/blob/main/Project_2_Part_3.ipynb\" target=\"_parent\"><img src=\"https://colab.research.google.com/assets/colab-badge.svg\" alt=\"Open In Colab\"/></a>"
      ]
    },
    {
      "cell_type": "markdown",
      "metadata": {
        "id": "sOjFBOOSoxBU"
      },
      "source": [
        "Project 2 - Part 3\n",
        "\n",
        "Your second project is going to have a lot more freedom than your first project. This is because we want you to have a project in your portfolio that interests you or relates to the industry you would like to work in.\n",
        "\n",
        "Your task for this week is to finish data cleaning and EDA if you have not done so already. If you finished this last week, you should begin modeling.\n",
        "\n",
        "Commit your data and any work you do to your GitHub repository."
      ]
    },
    {
      "cell_type": "code",
      "metadata": {
        "id": "_oK90Unrotnj",
        "colab": {
          "base_uri": "https://localhost:8080/"
        },
        "outputId": "3c814416-d03b-4b18-ffa6-763e85cade27"
      },
      "source": [
        "  from google.colab import drive\n",
        "  drive.mount('/content/drive')"
      ],
      "execution_count": 1,
      "outputs": [
        {
          "output_type": "stream",
          "text": [
            "Mounted at /content/drive\n"
          ],
          "name": "stdout"
        }
      ]
    },
    {
      "cell_type": "code",
      "metadata": {
        "id": "huTmtbJNOPR1"
      },
      "source": [
        "import pandas as pd\n",
        "import numpy as np\n",
        "import matplotlib.pyplot as plt\n",
        "import seaborn as sns"
      ],
      "execution_count": 2,
      "outputs": []
    },
    {
      "cell_type": "code",
      "metadata": {
        "colab": {
          "base_uri": "https://localhost:8080/",
          "height": 204
        },
        "id": "N8fLvfuhqtn1",
        "outputId": "eca3cfe9-777c-4d86-babe-bb39d48fa640"
      },
      "source": [
        "df = pd.read_csv('/content/drive/MyDrive/Coding Dojo/PandasForDataManipulation/forestfires.csv')\n",
        "df.head()"
      ],
      "execution_count": 3,
      "outputs": [
        {
          "output_type": "execute_result",
          "data": {
            "text/html": [
              "<div>\n",
              "<style scoped>\n",
              "    .dataframe tbody tr th:only-of-type {\n",
              "        vertical-align: middle;\n",
              "    }\n",
              "\n",
              "    .dataframe tbody tr th {\n",
              "        vertical-align: top;\n",
              "    }\n",
              "\n",
              "    .dataframe thead th {\n",
              "        text-align: right;\n",
              "    }\n",
              "</style>\n",
              "<table border=\"1\" class=\"dataframe\">\n",
              "  <thead>\n",
              "    <tr style=\"text-align: right;\">\n",
              "      <th></th>\n",
              "      <th>X</th>\n",
              "      <th>Y</th>\n",
              "      <th>month</th>\n",
              "      <th>day</th>\n",
              "      <th>FFMC</th>\n",
              "      <th>DMC</th>\n",
              "      <th>DC</th>\n",
              "      <th>ISI</th>\n",
              "      <th>temp</th>\n",
              "      <th>RH</th>\n",
              "      <th>wind</th>\n",
              "      <th>rain</th>\n",
              "      <th>area</th>\n",
              "    </tr>\n",
              "  </thead>\n",
              "  <tbody>\n",
              "    <tr>\n",
              "      <th>0</th>\n",
              "      <td>7</td>\n",
              "      <td>5</td>\n",
              "      <td>mar</td>\n",
              "      <td>fri</td>\n",
              "      <td>86.2</td>\n",
              "      <td>26.2</td>\n",
              "      <td>94.3</td>\n",
              "      <td>5.1</td>\n",
              "      <td>8.2</td>\n",
              "      <td>51</td>\n",
              "      <td>6.7</td>\n",
              "      <td>0.0</td>\n",
              "      <td>0.0</td>\n",
              "    </tr>\n",
              "    <tr>\n",
              "      <th>1</th>\n",
              "      <td>7</td>\n",
              "      <td>4</td>\n",
              "      <td>oct</td>\n",
              "      <td>tue</td>\n",
              "      <td>90.6</td>\n",
              "      <td>35.4</td>\n",
              "      <td>669.1</td>\n",
              "      <td>6.7</td>\n",
              "      <td>18.0</td>\n",
              "      <td>33</td>\n",
              "      <td>0.9</td>\n",
              "      <td>0.0</td>\n",
              "      <td>0.0</td>\n",
              "    </tr>\n",
              "    <tr>\n",
              "      <th>2</th>\n",
              "      <td>7</td>\n",
              "      <td>4</td>\n",
              "      <td>oct</td>\n",
              "      <td>sat</td>\n",
              "      <td>90.6</td>\n",
              "      <td>43.7</td>\n",
              "      <td>686.9</td>\n",
              "      <td>6.7</td>\n",
              "      <td>14.6</td>\n",
              "      <td>33</td>\n",
              "      <td>1.3</td>\n",
              "      <td>0.0</td>\n",
              "      <td>0.0</td>\n",
              "    </tr>\n",
              "    <tr>\n",
              "      <th>3</th>\n",
              "      <td>8</td>\n",
              "      <td>6</td>\n",
              "      <td>mar</td>\n",
              "      <td>fri</td>\n",
              "      <td>91.7</td>\n",
              "      <td>33.3</td>\n",
              "      <td>77.5</td>\n",
              "      <td>9.0</td>\n",
              "      <td>8.3</td>\n",
              "      <td>97</td>\n",
              "      <td>4.0</td>\n",
              "      <td>0.2</td>\n",
              "      <td>0.0</td>\n",
              "    </tr>\n",
              "    <tr>\n",
              "      <th>4</th>\n",
              "      <td>8</td>\n",
              "      <td>6</td>\n",
              "      <td>mar</td>\n",
              "      <td>sun</td>\n",
              "      <td>89.3</td>\n",
              "      <td>51.3</td>\n",
              "      <td>102.2</td>\n",
              "      <td>9.6</td>\n",
              "      <td>11.4</td>\n",
              "      <td>99</td>\n",
              "      <td>1.8</td>\n",
              "      <td>0.0</td>\n",
              "      <td>0.0</td>\n",
              "    </tr>\n",
              "  </tbody>\n",
              "</table>\n",
              "</div>"
            ],
            "text/plain": [
              "   X  Y month  day  FFMC   DMC     DC  ISI  temp  RH  wind  rain  area\n",
              "0  7  5   mar  fri  86.2  26.2   94.3  5.1   8.2  51   6.7   0.0   0.0\n",
              "1  7  4   oct  tue  90.6  35.4  669.1  6.7  18.0  33   0.9   0.0   0.0\n",
              "2  7  4   oct  sat  90.6  43.7  686.9  6.7  14.6  33   1.3   0.0   0.0\n",
              "3  8  6   mar  fri  91.7  33.3   77.5  9.0   8.3  97   4.0   0.2   0.0\n",
              "4  8  6   mar  sun  89.3  51.3  102.2  9.6  11.4  99   1.8   0.0   0.0"
            ]
          },
          "metadata": {},
          "execution_count": 3
        }
      ]
    },
    {
      "cell_type": "code",
      "metadata": {
        "colab": {
          "base_uri": "https://localhost:8080/"
        },
        "id": "dk9MazMfquZ1",
        "outputId": "6ae05655-d914-40a0-87a1-9183542d603c"
      },
      "source": [
        "df.info()"
      ],
      "execution_count": 4,
      "outputs": [
        {
          "output_type": "stream",
          "text": [
            "<class 'pandas.core.frame.DataFrame'>\n",
            "RangeIndex: 517 entries, 0 to 516\n",
            "Data columns (total 13 columns):\n",
            " #   Column  Non-Null Count  Dtype  \n",
            "---  ------  --------------  -----  \n",
            " 0   X       517 non-null    int64  \n",
            " 1   Y       517 non-null    int64  \n",
            " 2   month   517 non-null    object \n",
            " 3   day     517 non-null    object \n",
            " 4   FFMC    517 non-null    float64\n",
            " 5   DMC     517 non-null    float64\n",
            " 6   DC      517 non-null    float64\n",
            " 7   ISI     517 non-null    float64\n",
            " 8   temp    517 non-null    float64\n",
            " 9   RH      517 non-null    int64  \n",
            " 10  wind    517 non-null    float64\n",
            " 11  rain    517 non-null    float64\n",
            " 12  area    517 non-null    float64\n",
            "dtypes: float64(8), int64(3), object(2)\n",
            "memory usage: 52.6+ KB\n"
          ],
          "name": "stdout"
        }
      ]
    },
    {
      "cell_type": "code",
      "metadata": {
        "id": "4UZA5PQ4qvc0"
      },
      "source": [
        "from sklearn.preprocessing import StandardScaler\n",
        "from sklearn.cluster import KMeans"
      ],
      "execution_count": 5,
      "outputs": []
    },
    {
      "cell_type": "code",
      "metadata": {
        "colab": {
          "base_uri": "https://localhost:8080/",
          "height": 204
        },
        "id": "2acq497xqyb1",
        "outputId": "b0e0ea2c-287d-4ada-859c-e89aaf36a296"
      },
      "source": [
        "df.head()"
      ],
      "execution_count": 6,
      "outputs": [
        {
          "output_type": "execute_result",
          "data": {
            "text/html": [
              "<div>\n",
              "<style scoped>\n",
              "    .dataframe tbody tr th:only-of-type {\n",
              "        vertical-align: middle;\n",
              "    }\n",
              "\n",
              "    .dataframe tbody tr th {\n",
              "        vertical-align: top;\n",
              "    }\n",
              "\n",
              "    .dataframe thead th {\n",
              "        text-align: right;\n",
              "    }\n",
              "</style>\n",
              "<table border=\"1\" class=\"dataframe\">\n",
              "  <thead>\n",
              "    <tr style=\"text-align: right;\">\n",
              "      <th></th>\n",
              "      <th>X</th>\n",
              "      <th>Y</th>\n",
              "      <th>month</th>\n",
              "      <th>day</th>\n",
              "      <th>FFMC</th>\n",
              "      <th>DMC</th>\n",
              "      <th>DC</th>\n",
              "      <th>ISI</th>\n",
              "      <th>temp</th>\n",
              "      <th>RH</th>\n",
              "      <th>wind</th>\n",
              "      <th>rain</th>\n",
              "      <th>area</th>\n",
              "    </tr>\n",
              "  </thead>\n",
              "  <tbody>\n",
              "    <tr>\n",
              "      <th>0</th>\n",
              "      <td>7</td>\n",
              "      <td>5</td>\n",
              "      <td>mar</td>\n",
              "      <td>fri</td>\n",
              "      <td>86.2</td>\n",
              "      <td>26.2</td>\n",
              "      <td>94.3</td>\n",
              "      <td>5.1</td>\n",
              "      <td>8.2</td>\n",
              "      <td>51</td>\n",
              "      <td>6.7</td>\n",
              "      <td>0.0</td>\n",
              "      <td>0.0</td>\n",
              "    </tr>\n",
              "    <tr>\n",
              "      <th>1</th>\n",
              "      <td>7</td>\n",
              "      <td>4</td>\n",
              "      <td>oct</td>\n",
              "      <td>tue</td>\n",
              "      <td>90.6</td>\n",
              "      <td>35.4</td>\n",
              "      <td>669.1</td>\n",
              "      <td>6.7</td>\n",
              "      <td>18.0</td>\n",
              "      <td>33</td>\n",
              "      <td>0.9</td>\n",
              "      <td>0.0</td>\n",
              "      <td>0.0</td>\n",
              "    </tr>\n",
              "    <tr>\n",
              "      <th>2</th>\n",
              "      <td>7</td>\n",
              "      <td>4</td>\n",
              "      <td>oct</td>\n",
              "      <td>sat</td>\n",
              "      <td>90.6</td>\n",
              "      <td>43.7</td>\n",
              "      <td>686.9</td>\n",
              "      <td>6.7</td>\n",
              "      <td>14.6</td>\n",
              "      <td>33</td>\n",
              "      <td>1.3</td>\n",
              "      <td>0.0</td>\n",
              "      <td>0.0</td>\n",
              "    </tr>\n",
              "    <tr>\n",
              "      <th>3</th>\n",
              "      <td>8</td>\n",
              "      <td>6</td>\n",
              "      <td>mar</td>\n",
              "      <td>fri</td>\n",
              "      <td>91.7</td>\n",
              "      <td>33.3</td>\n",
              "      <td>77.5</td>\n",
              "      <td>9.0</td>\n",
              "      <td>8.3</td>\n",
              "      <td>97</td>\n",
              "      <td>4.0</td>\n",
              "      <td>0.2</td>\n",
              "      <td>0.0</td>\n",
              "    </tr>\n",
              "    <tr>\n",
              "      <th>4</th>\n",
              "      <td>8</td>\n",
              "      <td>6</td>\n",
              "      <td>mar</td>\n",
              "      <td>sun</td>\n",
              "      <td>89.3</td>\n",
              "      <td>51.3</td>\n",
              "      <td>102.2</td>\n",
              "      <td>9.6</td>\n",
              "      <td>11.4</td>\n",
              "      <td>99</td>\n",
              "      <td>1.8</td>\n",
              "      <td>0.0</td>\n",
              "      <td>0.0</td>\n",
              "    </tr>\n",
              "  </tbody>\n",
              "</table>\n",
              "</div>"
            ],
            "text/plain": [
              "   X  Y month  day  FFMC   DMC     DC  ISI  temp  RH  wind  rain  area\n",
              "0  7  5   mar  fri  86.2  26.2   94.3  5.1   8.2  51   6.7   0.0   0.0\n",
              "1  7  4   oct  tue  90.6  35.4  669.1  6.7  18.0  33   0.9   0.0   0.0\n",
              "2  7  4   oct  sat  90.6  43.7  686.9  6.7  14.6  33   1.3   0.0   0.0\n",
              "3  8  6   mar  fri  91.7  33.3   77.5  9.0   8.3  97   4.0   0.2   0.0\n",
              "4  8  6   mar  sun  89.3  51.3  102.2  9.6  11.4  99   1.8   0.0   0.0"
            ]
          },
          "metadata": {},
          "execution_count": 6
        }
      ]
    },
    {
      "cell_type": "code",
      "metadata": {
        "id": "XDK8exLzqzTG"
      },
      "source": [
        "X = df[['FFMC', 'DMC', 'DC', 'ISI', 'temp', 'RH', 'wind', 'rain', 'area', 'X', 'Y']]"
      ],
      "execution_count": 7,
      "outputs": []
    },
    {
      "cell_type": "code",
      "metadata": {
        "id": "LWkokNc0q0L8"
      },
      "source": [
        "scaler = StandardScaler()\n",
        "scaled_df = scaler.fit_transform(X)"
      ],
      "execution_count": 8,
      "outputs": []
    },
    {
      "cell_type": "code",
      "metadata": {
        "colab": {
          "base_uri": "https://localhost:8080/"
        },
        "id": "ZOiu2Pg1q1EZ",
        "outputId": "30afc971-2c44-498b-8ada-6a496b723876"
      },
      "source": [
        "kmeans = KMeans(n_clusters = 5)\n",
        "kmeans.fit(scaled_df)"
      ],
      "execution_count": 9,
      "outputs": [
        {
          "output_type": "execute_result",
          "data": {
            "text/plain": [
              "KMeans(algorithm='auto', copy_x=True, init='k-means++', max_iter=300,\n",
              "       n_clusters=5, n_init=10, n_jobs=None, precompute_distances='auto',\n",
              "       random_state=None, tol=0.0001, verbose=0)"
            ]
          },
          "metadata": {},
          "execution_count": 9
        }
      ]
    },
    {
      "cell_type": "code",
      "metadata": {
        "id": "ytOX0opbq10p"
      },
      "source": [
        "df['cluster'] = kmeans.labels_"
      ],
      "execution_count": 10,
      "outputs": []
    },
    {
      "cell_type": "code",
      "metadata": {
        "colab": {
          "base_uri": "https://localhost:8080/",
          "height": 298
        },
        "id": "Fk4TZ76hq2y8",
        "outputId": "492b210e-0916-4310-c52c-68ec2d19845f"
      },
      "source": [
        "plt.scatter(df['X'], df['Y'], c = df['cluster'])\n",
        "plt.title('Clusters of Fires')"
      ],
      "execution_count": 11,
      "outputs": [
        {
          "output_type": "execute_result",
          "data": {
            "text/plain": [
              "Text(0.5, 1.0, 'Clusters of Fires')"
            ]
          },
          "metadata": {},
          "execution_count": 11
        },
        {
          "output_type": "display_data",
          "data": {
            "image/png": "[encoded data removed]",
            "text/plain": [
              "<Figure size 432x288 with 1 Axes>"
            ]
          },
          "metadata": {
            "needs_background": "light"
          }
        }
      ]
    },
    {
      "cell_type": "code",
      "metadata": {
        "colab": {
          "base_uri": "https://localhost:8080/",
          "height": 295
        },
        "id": "8VX8mtH-q5Mp",
        "outputId": "7052535f-e0d4-4154-9272-b199f2bb102a"
      },
      "source": [
        "plt.scatter(df['FFMC'], df['DMC'], c = df['cluster'])\n",
        "plt.xlabel('Fine Fuel Moisture Code')\n",
        "plt.ylabel('Duff Moisture Code')\n",
        "plt.title('Clusters of Fires');"
      ],
      "execution_count": 13,
      "outputs": [
        {
          "output_type": "display_data",
          "data": {
            "image/png": "[encoded data removed]",
            "text/plain": [
              "<Figure size 432x288 with 1 Axes>"
            ]
          },
          "metadata": {
            "needs_background": "light"
          }
        }
      ]
    },
    {
      "cell_type": "code",
      "metadata": {
        "colab": {
          "base_uri": "https://localhost:8080/",
          "height": 295
        },
        "id": "1vDgY68nq651",
        "outputId": "0e368d10-7ece-4766-ff14-fe15cd7ad738"
      },
      "source": [
        "plt.scatter(df['wind'], df['rain'], c = df['cluster'])\n",
        "plt.xlabel('Wind')\n",
        "plt.ylabel('Rain')\n",
        "plt.title('Clusters of Fires');"
      ],
      "execution_count": 14,
      "outputs": [
        {
          "output_type": "display_data",
          "data": {
            "image/png": "[encoded data removed]",
            "text/plain": [
              "<Figure size 432x288 with 1 Axes>"
            ]
          },
          "metadata": {
            "needs_background": "light"
          }
        }
      ]
    },
    {
      "cell_type": "code",
      "metadata": {
        "colab": {
          "base_uri": "https://localhost:8080/"
        },
        "id": "5haj79ERq9Nf",
        "outputId": "8fcd5330-b7a8-4cdd-aad1-b11c3b8549e0"
      },
      "source": [
        "df['cluster'].value_counts()"
      ],
      "execution_count": 15,
      "outputs": [
        {
          "output_type": "execute_result",
          "data": {
            "text/plain": [
              "0    237\n",
              "2    167\n",
              "1    110\n",
              "4      2\n",
              "3      1\n",
              "Name: cluster, dtype: int64"
            ]
          },
          "metadata": {},
          "execution_count": 15
        }
      ]
    },
    {
      "cell_type": "code",
      "metadata": {
        "id": "bm1YHjp9rA8j"
      },
      "source": [
        "seg1 = df[df['cluster'] == 0]\n",
        "seg2 = df[df['cluster'] == 1]\n",
        "seg3 = df[df['cluster'] == 2]\n",
        "seg4 = df[df['cluster'] == 3]\n",
        "seg5 = df[df['cluster'] == 4]"
      ],
      "execution_count": 16,
      "outputs": []
    },
    {
      "cell_type": "code",
      "metadata": {
        "colab": {
          "base_uri": "https://localhost:8080/"
        },
        "id": "TnuSSgt3rB0N",
        "outputId": "f42a6f9a-2359-44da-b6ae-b596f4d8bec2"
      },
      "source": [
        "fire_segs = [seg1, seg2, seg3, seg4, seg5]\n",
        "for segment in fire_segs:\n",
        "  print(segment.describe().T)"
      ],
      "execution_count": 17,
      "outputs": [
        {
          "output_type": "stream",
          "text": [
            "         count        mean        std    min    25%     50%     75%     max\n",
            "X        237.0    2.928270   1.498277    1.0    2.0    3.00    4.00    7.00\n",
            "Y        237.0    3.641350   0.957829    2.0    3.0    4.00    4.00    5.00\n",
            "FFMC     237.0   92.226582   1.862091   81.6   91.1   92.10   93.50   96.20\n",
            "DMC      237.0  129.669620  46.509611   35.4   99.6  122.30  146.00  290.00\n",
            "DC       237.0  667.761603  98.511479  296.3  624.2  689.10  728.60  855.30\n",
            "ISI      237.0    9.986920   3.716129    1.9    7.1    9.00   12.20   21.30\n",
            "temp     237.0   21.082700   4.355485    9.8   18.3   20.70   23.70   33.10\n",
            "RH       237.0   41.729958  14.035777   15.0   32.0   40.00   49.00   88.00\n",
            "wind     237.0    3.749789   1.659248    0.4    2.2    3.60    4.90    9.40\n",
            "rain     237.0    0.001688   0.025983    0.0    0.0    0.00    0.00    0.40\n",
            "area     237.0    9.148819  27.236797    0.0    0.0    0.71    6.43  212.88\n",
            "cluster  237.0    0.000000   0.000000    0.0    0.0    0.00    0.00    0.00\n",
            "         count        mean         std   min     25%    50%       75%     max\n",
            "X        110.0    4.845455    1.782619   1.0   4.000   5.00    6.0000    9.00\n",
            "Y        110.0    4.454545    1.170246   2.0   4.000   4.00    5.0000    9.00\n",
            "FFMC     110.0   85.425455    9.667912  18.7  84.600  87.60   90.6750   94.00\n",
            "DMC      110.0   31.279091   21.790037   1.1  15.225  26.30   45.6500   96.20\n",
            "DC       110.0  136.644545  162.140490   7.9  47.100  80.80  103.8000  709.90\n",
            "ISI      110.0    5.403636    3.136349   0.0   2.725   5.00    7.8000   12.50\n",
            "temp     110.0   12.038182    4.689496   2.2   8.725  12.25   15.2000   23.30\n",
            "RH       110.0   47.272727   20.149856  18.0  30.000  43.50   59.7500  100.00\n",
            "wind     110.0    4.849091    2.104200   0.9   3.100   4.90    6.1750    9.40\n",
            "rain     110.0    0.001818    0.019069   0.0   0.000   0.00    0.0000    0.20\n",
            "area     110.0    6.171273   11.912633   0.0   0.000   0.00    7.3475   61.13\n",
            "cluster  110.0    1.000000    0.000000   1.0   1.000   1.00    1.0000    1.00\n",
            "         count        mean         std    min    25%     50%      75%     max\n",
            "X        167.0    6.982036    1.234411    3.0    6.0    7.00    8.000    9.00\n",
            "Y        167.0    5.113772    1.083386    3.0    4.0    5.00    6.000    9.00\n",
            "FFMC     167.0   91.768862    2.283991   81.6   91.0   91.90   93.100   96.20\n",
            "DMC      167.0  135.473054   62.825462   32.8   92.7  121.10  173.000  291.30\n",
            "DC       167.0  646.409581  132.477072  200.0  601.4  673.80  731.450  860.60\n",
            "ISI      167.0    9.976647    5.224421    1.9    7.1    8.60   12.000   56.10\n",
            "temp     167.0   20.149701    4.766700    5.1   17.1   20.10   23.350   33.30\n",
            "RH       167.0   46.047904   16.028141   21.0   34.0   43.00   57.500   96.00\n",
            "wind     167.0    3.839521    1.598416    0.9    2.7    3.60    4.900    8.90\n",
            "rain     167.0    0.025150    0.158577    0.0    0.0    0.00    0.000    1.40\n",
            "area     167.0   11.658683   34.004344    0.0    0.0    0.68    6.035  278.53\n",
            "cluster  167.0    2.000000    0.000000    2.0    2.0    2.00    2.000    2.00\n",
            "         count    mean  std     min     25%     50%     75%     max\n",
            "X          1.0    7.00  NaN    7.00    7.00    7.00    7.00    7.00\n",
            "Y          1.0    5.00  NaN    5.00    5.00    5.00    5.00    5.00\n",
            "FFMC       1.0   96.10  NaN   96.10   96.10   96.10   96.10   96.10\n",
            "DMC        1.0  181.10  NaN  181.10  181.10  181.10  181.10  181.10\n",
            "DC         1.0  671.20  NaN  671.20  671.20  671.20  671.20  671.20\n",
            "ISI        1.0   14.30  NaN   14.30   14.30   14.30   14.30   14.30\n",
            "temp       1.0   27.30  NaN   27.30   27.30   27.30   27.30   27.30\n",
            "RH         1.0   63.00  NaN   63.00   63.00   63.00   63.00   63.00\n",
            "wind       1.0    4.90  NaN    4.90    4.90    4.90    4.90    4.90\n",
            "rain       1.0    6.40  NaN    6.40    6.40    6.40    6.40    6.40\n",
            "area       1.0   10.82  NaN   10.82   10.82   10.82   10.82   10.82\n",
            "cluster    1.0    3.00  NaN    3.00    3.00    3.00    3.00    3.00\n",
            "         count    mean         std     min      25%     50%       75%      max\n",
            "X          2.0    7.00    1.414214    6.00    6.500    7.00     7.500     8.00\n",
            "Y          2.0    5.50    0.707107    5.00    5.250    5.50     5.750     6.00\n",
            "FFMC       2.0   93.65    1.626346   92.50   93.075   93.65    94.225    94.80\n",
            "DMC        2.0  171.75   71.629917  121.10  146.425  171.75   197.075   222.40\n",
            "DC         2.0  686.50   17.111984  674.40  680.450  686.50   692.550   698.60\n",
            "ISI        2.0   11.25    3.747666    8.60    9.925   11.25    12.575    13.90\n",
            "temp       2.0   26.30    1.697056   25.10   25.700   26.30    26.900    27.50\n",
            "RH         2.0   27.00    0.000000   27.00   27.000   27.00    27.000    27.00\n",
            "wind       2.0    4.45    0.636396    4.00    4.225    4.45     4.675     4.90\n",
            "rain       2.0    0.00    0.000000    0.00    0.000    0.00     0.000     0.00\n",
            "area       2.0  918.56  243.640713  746.28  832.420  918.56  1004.700  1090.84\n",
            "cluster    2.0    4.00    0.000000    4.00    4.000    4.00     4.000     4.00\n"
          ],
          "name": "stdout"
        }
      ]
    },
    {
      "cell_type": "code",
      "metadata": {
        "id": "43lLJ4-XrCsE"
      },
      "source": [
        ""
      ],
      "execution_count": null,
      "outputs": []
    }
  ]
}