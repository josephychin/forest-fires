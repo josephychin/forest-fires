{
  "nbformat": 4,
  "nbformat_minor": 0,
  "metadata": {
    "colab": {
      "name": "Project 2 - Part 5.ipynb",
      "provenance": [],
      "collapsed_sections": [],
      "authorship_tag": "ABX9TyNRIdgL2Yqts6kH2ATKiu5Q",
      "include_colab_link": true
    },
    "kernelspec": {
      "name": "python3",
      "display_name": "Python 3"
    },
    "language_info": {
      "name": "python"
    }
  },
  "cells": [
    {
      "cell_type": "markdown",
      "metadata": {
        "id": "view-in-github",
        "colab_type": "text"
      },
      "source": [
        "<a href=\"https://colab.research.google.com/github/josephychin/forest-fires/blob/main/Project_2_Part_5.ipynb\" target=\"_parent\"><img src=\"https://colab.research.google.com/assets/colab-badge.svg\" alt=\"Open In Colab\"/></a>"
      ]
    },
    {
      "cell_type": "markdown",
      "metadata": {
        "id": "Zc4pzz70OugR"
      },
      "source": [
        "Project 2 - Part 5\n",
        "\n",
        "This is your last week to work on your second project! Next week during our live class, you will be giving a short (5 minute) presentation about your project. You need to be ready to present the first day of class next week (the order of presentations will be randomly assigned). Your presentation should include background information about your project, information about your data, visualizations, modeling techniques, and results/conclusions/recommendations.\n",
        "\n",
        "Your task for this week is to complete your project and prepare your presentation. Make sure to include your presentation slide deck on your GitHub repository for your project. Submit the link to your project GitHub repository with your completed project.\n",
        "\n",
        "Source: https://archive.ics.uci.edu/ml/datasets/Forest+Fires\n",
        "\n",
        "[Cortez and Morais, 2007] P. Cortez and A. Morais. A Data Mining Approach to Predict Forest Fires using Meteorological Data. In J. Neves, M. F. Santos and J. Machado Eds., New Trends in Artificial Intelligence, Proceedings of the 13th EPIA 2007 - Portuguese Conference on Artificial Intelligence, December, Guimarães, Portugal, pp. 512-523, 2007. APPIA, ISBN-13 978-989-95618-0-9.\n",
        "\n",
        "In [Cortez and Morais, 2007], the output 'area' was first transformed with a ln(x+1) function.\n",
        "Then, several Data Mining methods were applied. After fitting the models, the outputs were\n",
        "post-processed with the inverse of the ln(x+1) transform. Four different input setups were\n",
        "used. The experiments were conducted using a 10-fold (cross-validation) x 30 runs. Two\n",
        "regression metrics were measured: MAD and RMSE. A Gaussian support vector machine (SVM) fed\n",
        "with only 4 direct weather conditions (temp, RH, wind and rain) obtained the best MAD value:\n",
        "12.71 +- 0.01 (mean and confidence interval within 95% using a t-student distribution). The\n",
        "best RMSE was attained by the naive mean predictor. An analysis to the regression error curve\n",
        "(REC) shows that the SVM model predicts more examples within a lower admitted error. In effect,\n",
        "the SVM model predicts better small fires, which are the majority.\n",
        "\n",
        "X - x-axis spatial coordinate within the Montesinho park map: 1 to 9\n",
        "\n",
        "Y - y-axis spatial coordinate within the Montesinho park map: 2 to 9\n",
        "\n",
        "month - month of the year: 'jan' to 'dec'\n",
        "\n",
        "day - day of the week: 'mon' to 'sun'\n",
        "\n",
        "FFMC - FFMC (Fine Fuel Moisture Code) index from the FWI system: 18.7 to 96.20\n",
        "\n",
        "DMC - DMC (Duff Moisture Code) index from the \n",
        "FWI system: 1.1 to 291.3\n",
        "\n",
        "DC - DC (Drought Code) index from the FWI system: 7.9 to 860.6\n",
        "\n",
        "ISI - (Initial Spead Index) ISI index from the FWI system: 0.0 to 56.10\n",
        "\n",
        "temp - temperature in Celsius degrees: 2.2 to 33.30\n",
        "\n",
        "RH - relative humidity in %: 15.0 to 100\n",
        "\n",
        "wind - wind speed in km/h: 0.40 to 9.40\n",
        "\n",
        "rain - outside rain in mm/m2 : 0.0 to 6.4\n",
        "\n",
        "area - the burned area of the forest (in ha): 0.00 to 1090.84 (this output variable is very skewed towards 0.0, thus it may make sense to model with the logarithm transform).\n"
      ]
    },
    {
      "cell_type": "code",
      "metadata": {
        "colab": {
          "base_uri": "https://localhost:8080/"
        },
        "id": "XpkkyKpeOn65",
        "outputId": "27f64d9f-443c-4ffa-d513-71534bca4e91"
      },
      "source": [
        "from google.colab import drive\n",
        "drive.mount('/content/drive')"
      ],
      "execution_count": null,
      "outputs": [
        {
          "output_type": "stream",
          "text": [
            "Mounted at /content/drive\n"
          ],
          "name": "stdout"
        }
      ]
    },
    {
      "cell_type": "code",
      "metadata": {
        "id": "xO3GfZQUO8Jo"
      },
      "source": [
        "import pandas as pd\n",
        "import numpy as np\n",
        "import matplotlib.pyplot as plt\n",
        "import seaborn as sns"
      ],
      "execution_count": null,
      "outputs": []
    },
    {
      "cell_type": "code",
      "metadata": {
        "colab": {
          "base_uri": "https://localhost:8080/",
          "height": 204
        },
        "id": "RI5jOpE3PJj7",
        "outputId": "fc576167-4f52-4784-b2f4-5b8d38bbe453"
      },
      "source": [
        "df = pd.read_csv('/content/drive/MyDrive/Coding Dojo/PandasForDataManipulation/forestfires.csv')\n",
        "df.head()"
      ],
      "execution_count": null,
      "outputs": [
        {
          "output_type": "execute_result",
          "data": {
            "text/html": [
              "<div>\n",
              "<style scoped>\n",
              "    .dataframe tbody tr th:only-of-type {\n",
              "        vertical-align: middle;\n",
              "    }\n",
              "\n",
              "    .dataframe tbody tr th {\n",
              "        vertical-align: top;\n",
              "    }\n",
              "\n",
              "    .dataframe thead th {\n",
              "        text-align: right;\n",
              "    }\n",
              "</style>\n",
              "<table border=\"1\" class=\"dataframe\">\n",
              "  <thead>\n",
              "    <tr style=\"text-align: right;\">\n",
              "      <th></th>\n",
              "      <th>X</th>\n",
              "      <th>Y</th>\n",
              "      <th>month</th>\n",
              "      <th>day</th>\n",
              "      <th>FFMC</th>\n",
              "      <th>DMC</th>\n",
              "      <th>DC</th>\n",
              "      <th>ISI</th>\n",
              "      <th>temp</th>\n",
              "      <th>RH</th>\n",
              "      <th>wind</th>\n",
              "      <th>rain</th>\n",
              "      <th>area</th>\n",
              "    </tr>\n",
              "  </thead>\n",
              "  <tbody>\n",
              "    <tr>\n",
              "      <th>0</th>\n",
              "      <td>7</td>\n",
              "      <td>5</td>\n",
              "      <td>mar</td>\n",
              "      <td>fri</td>\n",
              "      <td>86.2</td>\n",
              "      <td>26.2</td>\n",
              "      <td>94.3</td>\n",
              "      <td>5.1</td>\n",
              "      <td>8.2</td>\n",
              "      <td>51</td>\n",
              "      <td>6.7</td>\n",
              "      <td>0.0</td>\n",
              "      <td>0.0</td>\n",
              "    </tr>\n",
              "    <tr>\n",
              "      <th>1</th>\n",
              "      <td>7</td>\n",
              "      <td>4</td>\n",
              "      <td>oct</td>\n",
              "      <td>tue</td>\n",
              "      <td>90.6</td>\n",
              "      <td>35.4</td>\n",
              "      <td>669.1</td>\n",
              "      <td>6.7</td>\n",
              "      <td>18.0</td>\n",
              "      <td>33</td>\n",
              "      <td>0.9</td>\n",
              "      <td>0.0</td>\n",
              "      <td>0.0</td>\n",
              "    </tr>\n",
              "    <tr>\n",
              "      <th>2</th>\n",
              "      <td>7</td>\n",
              "      <td>4</td>\n",
              "      <td>oct</td>\n",
              "      <td>sat</td>\n",
              "      <td>90.6</td>\n",
              "      <td>43.7</td>\n",
              "      <td>686.9</td>\n",
              "      <td>6.7</td>\n",
              "      <td>14.6</td>\n",
              "      <td>33</td>\n",
              "      <td>1.3</td>\n",
              "      <td>0.0</td>\n",
              "      <td>0.0</td>\n",
              "    </tr>\n",
              "    <tr>\n",
              "      <th>3</th>\n",
              "      <td>8</td>\n",
              "      <td>6</td>\n",
              "      <td>mar</td>\n",
              "      <td>fri</td>\n",
              "      <td>91.7</td>\n",
              "      <td>33.3</td>\n",
              "      <td>77.5</td>\n",
              "      <td>9.0</td>\n",
              "      <td>8.3</td>\n",
              "      <td>97</td>\n",
              "      <td>4.0</td>\n",
              "      <td>0.2</td>\n",
              "      <td>0.0</td>\n",
              "    </tr>\n",
              "    <tr>\n",
              "      <th>4</th>\n",
              "      <td>8</td>\n",
              "      <td>6</td>\n",
              "      <td>mar</td>\n",
              "      <td>sun</td>\n",
              "      <td>89.3</td>\n",
              "      <td>51.3</td>\n",
              "      <td>102.2</td>\n",
              "      <td>9.6</td>\n",
              "      <td>11.4</td>\n",
              "      <td>99</td>\n",
              "      <td>1.8</td>\n",
              "      <td>0.0</td>\n",
              "      <td>0.0</td>\n",
              "    </tr>\n",
              "  </tbody>\n",
              "</table>\n",
              "</div>"
            ],
            "text/plain": [
              "   X  Y month  day  FFMC   DMC     DC  ISI  temp  RH  wind  rain  area\n",
              "0  7  5   mar  fri  86.2  26.2   94.3  5.1   8.2  51   6.7   0.0   0.0\n",
              "1  7  4   oct  tue  90.6  35.4  669.1  6.7  18.0  33   0.9   0.0   0.0\n",
              "2  7  4   oct  sat  90.6  43.7  686.9  6.7  14.6  33   1.3   0.0   0.0\n",
              "3  8  6   mar  fri  91.7  33.3   77.5  9.0   8.3  97   4.0   0.2   0.0\n",
              "4  8  6   mar  sun  89.3  51.3  102.2  9.6  11.4  99   1.8   0.0   0.0"
            ]
          },
          "metadata": {},
          "execution_count": 3
        }
      ]
    },
    {
      "cell_type": "code",
      "metadata": {
        "colab": {
          "base_uri": "https://localhost:8080/"
        },
        "id": "7KjheDXbPPr8",
        "outputId": "2c819cb5-3ba6-47a1-88dd-3323ea1ad791"
      },
      "source": [
        "df.info()"
      ],
      "execution_count": null,
      "outputs": [
        {
          "output_type": "stream",
          "text": [
            "<class 'pandas.core.frame.DataFrame'>\n",
            "RangeIndex: 517 entries, 0 to 516\n",
            "Data columns (total 13 columns):\n",
            " #   Column  Non-Null Count  Dtype  \n",
            "---  ------  --------------  -----  \n",
            " 0   X       517 non-null    int64  \n",
            " 1   Y       517 non-null    int64  \n",
            " 2   month   517 non-null    object \n",
            " 3   day     517 non-null    object \n",
            " 4   FFMC    517 non-null    float64\n",
            " 5   DMC     517 non-null    float64\n",
            " 6   DC      517 non-null    float64\n",
            " 7   ISI     517 non-null    float64\n",
            " 8   temp    517 non-null    float64\n",
            " 9   RH      517 non-null    int64  \n",
            " 10  wind    517 non-null    float64\n",
            " 11  rain    517 non-null    float64\n",
            " 12  area    517 non-null    float64\n",
            "dtypes: float64(8), int64(3), object(2)\n",
            "memory usage: 52.6+ KB\n"
          ],
          "name": "stdout"
        }
      ]
    },
    {
      "cell_type": "code",
      "metadata": {
        "colab": {
          "base_uri": "https://localhost:8080/"
        },
        "id": "Xw3hrpaUPSN0",
        "outputId": "0dec562e-5647-4d10-ba8b-4846b07a2049"
      },
      "source": [
        "df.shape"
      ],
      "execution_count": null,
      "outputs": [
        {
          "output_type": "execute_result",
          "data": {
            "text/plain": [
              "(517, 13)"
            ]
          },
          "metadata": {},
          "execution_count": 5
        }
      ]
    },
    {
      "cell_type": "code",
      "metadata": {
        "colab": {
          "base_uri": "https://localhost:8080/"
        },
        "id": "sF-fALblPTEU",
        "outputId": "13c22e3d-4b28-4fd3-afca-3f82a9a8c15c"
      },
      "source": [
        "df.dtypes"
      ],
      "execution_count": null,
      "outputs": [
        {
          "output_type": "execute_result",
          "data": {
            "text/plain": [
              "X          int64\n",
              "Y          int64\n",
              "month     object\n",
              "day       object\n",
              "FFMC     float64\n",
              "DMC      float64\n",
              "DC       float64\n",
              "ISI      float64\n",
              "temp     float64\n",
              "RH         int64\n",
              "wind     float64\n",
              "rain     float64\n",
              "area     float64\n",
              "dtype: object"
            ]
          },
          "metadata": {},
          "execution_count": 6
        }
      ]
    },
    {
      "cell_type": "code",
      "metadata": {
        "colab": {
          "base_uri": "https://localhost:8080/"
        },
        "id": "mLTf3uFqPTtV",
        "outputId": "6e4ec0c4-d2cf-4078-b41c-99540dedf239"
      },
      "source": [
        "df.isnull().count()"
      ],
      "execution_count": null,
      "outputs": [
        {
          "output_type": "execute_result",
          "data": {
            "text/plain": [
              "X        517\n",
              "Y        517\n",
              "month    517\n",
              "day      517\n",
              "FFMC     517\n",
              "DMC      517\n",
              "DC       517\n",
              "ISI      517\n",
              "temp     517\n",
              "RH       517\n",
              "wind     517\n",
              "rain     517\n",
              "area     517\n",
              "dtype: int64"
            ]
          },
          "metadata": {},
          "execution_count": 7
        }
      ]
    },
    {
      "cell_type": "code",
      "metadata": {
        "colab": {
          "base_uri": "https://localhost:8080/",
          "height": 502
        },
        "id": "20tm3FyKPVPx",
        "outputId": "c3f480c8-2cfa-415b-f587-a5494a2ed18f"
      },
      "source": [
        "df[['FFMC', 'DMC', 'DC', 'ISI', 'temp', 'RH', 'wind', 'rain', 'X', 'Y']].hist()"
      ],
      "execution_count": null,
      "outputs": [
        {
          "output_type": "execute_result",
          "data": {
            "text/plain": [
              "array([[<matplotlib.axes._subplots.AxesSubplot object at 0x7fb792ecc990>,\n",
              "        <matplotlib.axes._subplots.AxesSubplot object at 0x7fb792e99fd0>,\n",
              "        <matplotlib.axes._subplots.AxesSubplot object at 0x7fb792e5c690>],\n",
              "       [<matplotlib.axes._subplots.AxesSubplot object at 0x7fb792e10d10>,\n",
              "        <matplotlib.axes._subplots.AxesSubplot object at 0x7fb792dd43d0>,\n",
              "        <matplotlib.axes._subplots.AxesSubplot object at 0x7fb792d88a50>],\n",
              "       [<matplotlib.axes._subplots.AxesSubplot object at 0x7fb792d4b190>,\n",
              "        <matplotlib.axes._subplots.AxesSubplot object at 0x7fb792d00750>,\n",
              "        <matplotlib.axes._subplots.AxesSubplot object at 0x7fb792d00790>],\n",
              "       [<matplotlib.axes._subplots.AxesSubplot object at 0x7fb792cb6f10>,\n",
              "        <matplotlib.axes._subplots.AxesSubplot object at 0x7fb792c2cb50>,\n",
              "        <matplotlib.axes._subplots.AxesSubplot object at 0x7fb792bf0210>]],\n",
              "      dtype=object)"
            ]
          },
          "metadata": {},
          "execution_count": 9
        },
        {
          "output_type": "display_data",
          "data": {
            "image/png": "[encoded data removed]",
            "text/plain": [
              "<Figure size 432x288 with 12 Axes>"
            ]
          },
          "metadata": {
            "needs_background": "light"
          }
        }
      ]
    },
    {
      "cell_type": "code",
      "metadata": {
        "colab": {
          "base_uri": "https://localhost:8080/",
          "height": 352
        },
        "id": "ao0qW48XPg2V",
        "outputId": "c296b225-9161-495d-bbd7-d643783eda64"
      },
      "source": [
        "# plt.bar(df['month'].values, df['month'].index)\n",
        "sns.barplot(df['month'].values, df['month'].index).set(title='Fires in Months')"
      ],
      "execution_count": null,
      "outputs": [
        {
          "output_type": "stream",
          "text": [
            "/usr/local/lib/python3.7/dist-packages/seaborn/_decorators.py:43: FutureWarning: Pass the following variables as keyword args: x, y. From version 0.12, the only valid positional argument will be `data`, and passing other arguments without an explicit keyword will result in an error or misinterpretation.\n",
            "  FutureWarning\n"
          ],
          "name": "stderr"
        },
        {
          "output_type": "execute_result",
          "data": {
            "text/plain": [
              "[Text(0.5, 1.0, 'Fires in Months')]"
            ]
          },
          "metadata": {},
          "execution_count": 102
        },
        {
          "output_type": "display_data",
          "data": {
            "image/png": "[encoded data removed]",
            "text/plain": [
              "<Figure size 432x288 with 1 Axes>"
            ]
          },
          "metadata": {
            "needs_background": "light"
          }
        }
      ]
    },
    {
      "cell_type": "code",
      "metadata": {
        "colab": {
          "base_uri": "https://localhost:8080/",
          "height": 352
        },
        "id": "CZMKvKfePoLf",
        "outputId": "d50a1a8b-7cde-4f1f-af6c-17661def5bdd"
      },
      "source": [
        "# plt.bar(df['day'].values, df['day'].index)\n",
        "sns.barplot(df['day'].values, df['day'].index).set(title='Fires in Days')"
      ],
      "execution_count": null,
      "outputs": [
        {
          "output_type": "stream",
          "text": [
            "/usr/local/lib/python3.7/dist-packages/seaborn/_decorators.py:43: FutureWarning: Pass the following variables as keyword args: x, y. From version 0.12, the only valid positional argument will be `data`, and passing other arguments without an explicit keyword will result in an error or misinterpretation.\n",
            "  FutureWarning\n"
          ],
          "name": "stderr"
        },
        {
          "output_type": "execute_result",
          "data": {
            "text/plain": [
              "[Text(0.5, 1.0, 'Fires in Days')]"
            ]
          },
          "metadata": {},
          "execution_count": 103
        },
        {
          "output_type": "display_data",
          "data": {
            "image/png": "[encoded data removed]",
            "text/plain": [
              "<Figure size 432x288 with 1 Axes>"
            ]
          },
          "metadata": {
            "needs_background": "light"
          }
        }
      ]
    },
    {
      "cell_type": "code",
      "metadata": {
        "colab": {
          "base_uri": "https://localhost:8080/"
        },
        "id": "1ZURZO7tPrj5",
        "outputId": "cd6ba8ab-7b56-4761-fee1-61de0610ac48"
      },
      "source": [
        "df.info()"
      ],
      "execution_count": null,
      "outputs": [
        {
          "output_type": "stream",
          "text": [
            "<class 'pandas.core.frame.DataFrame'>\n",
            "RangeIndex: 517 entries, 0 to 516\n",
            "Data columns (total 13 columns):\n",
            " #   Column  Non-Null Count  Dtype  \n",
            "---  ------  --------------  -----  \n",
            " 0   X       517 non-null    int64  \n",
            " 1   Y       517 non-null    int64  \n",
            " 2   month   517 non-null    object \n",
            " 3   day     517 non-null    object \n",
            " 4   FFMC    517 non-null    float64\n",
            " 5   DMC     517 non-null    float64\n",
            " 6   DC      517 non-null    float64\n",
            " 7   ISI     517 non-null    float64\n",
            " 8   temp    517 non-null    float64\n",
            " 9   RH      517 non-null    int64  \n",
            " 10  wind    517 non-null    float64\n",
            " 11  rain    517 non-null    float64\n",
            " 12  area    517 non-null    float64\n",
            "dtypes: float64(8), int64(3), object(2)\n",
            "memory usage: 52.6+ KB\n"
          ],
          "name": "stdout"
        }
      ]
    },
    {
      "cell_type": "code",
      "metadata": {
        "colab": {
          "base_uri": "https://localhost:8080/",
          "height": 996
        },
        "id": "3gwU1QDLPuDF",
        "outputId": "fcb39622-168c-45d9-9003-19ec60cbabf1"
      },
      "source": [
        "plt.boxplot([df['FFMC'], df['ISI'], df['temp'], df['RH'], df['wind'], df['rain']], labels = ['FFMC', 'ISI', 'temp', 'RH', 'wind', 'rain'])"
      ],
      "execution_count": null,
      "outputs": [
        {
          "output_type": "execute_result",
          "data": {
            "text/plain": [
              "{'boxes': [<matplotlib.lines.Line2D at 0x7fb78398ef10>,\n",
              "  <matplotlib.lines.Line2D at 0x7fb783c29410>,\n",
              "  <matplotlib.lines.Line2D at 0x7fb783c35850>,\n",
              "  <matplotlib.lines.Line2D at 0x7fb783c19c50>,\n",
              "  <matplotlib.lines.Line2D at 0x7fb783b42050>,\n",
              "  <matplotlib.lines.Line2D at 0x7fb783b54410>],\n",
              " 'caps': [<matplotlib.lines.Line2D at 0x7fb7839abf90>,\n",
              "  <matplotlib.lines.Line2D at 0x7fb783c27510>,\n",
              "  <matplotlib.lines.Line2D at 0x7fb783c21410>,\n",
              "  <matplotlib.lines.Line2D at 0x7fb783c21910>,\n",
              "  <matplotlib.lines.Line2D at 0x7fb783c117d0>,\n",
              "  <matplotlib.lines.Line2D at 0x7fb783c11d10>,\n",
              "  <matplotlib.lines.Line2D at 0x7fb783c0fb90>,\n",
              "  <matplotlib.lines.Line2D at 0x7fb783b3b0d0>,\n",
              "  <matplotlib.lines.Line2D at 0x7fb783b42f50>,\n",
              "  <matplotlib.lines.Line2D at 0x7fb783b4c450>,\n",
              "  <matplotlib.lines.Line2D at 0x7fb783b5c350>,\n",
              "  <matplotlib.lines.Line2D at 0x7fb783b5c850>],\n",
              " 'fliers': [<matplotlib.lines.Line2D at 0x7fb783c27fd0>,\n",
              "  <matplotlib.lines.Line2D at 0x7fb783c35350>,\n",
              "  <matplotlib.lines.Line2D at 0x7fb783c19750>,\n",
              "  <matplotlib.lines.Line2D at 0x7fb783b3bad0>,\n",
              "  <matplotlib.lines.Line2D at 0x7fb783b4ce90>,\n",
              "  <matplotlib.lines.Line2D at 0x7fb783b64290>],\n",
              " 'means': [],\n",
              " 'medians': [<matplotlib.lines.Line2D at 0x7fb783c27a90>,\n",
              "  <matplotlib.lines.Line2D at 0x7fb783c21e10>,\n",
              "  <matplotlib.lines.Line2D at 0x7fb783c19250>,\n",
              "  <matplotlib.lines.Line2D at 0x7fb783b3b5d0>,\n",
              "  <matplotlib.lines.Line2D at 0x7fb783b4c950>,\n",
              "  <matplotlib.lines.Line2D at 0x7fb783b5cd50>],\n",
              " 'whiskers': [<matplotlib.lines.Line2D at 0x7fb7839ab510>,\n",
              "  <matplotlib.lines.Line2D at 0x7fb7839aba50>,\n",
              "  <matplotlib.lines.Line2D at 0x7fb783c29ed0>,\n",
              "  <matplotlib.lines.Line2D at 0x7fb783c29910>,\n",
              "  <matplotlib.lines.Line2D at 0x7fb783c35d50>,\n",
              "  <matplotlib.lines.Line2D at 0x7fb783c112d0>,\n",
              "  <matplotlib.lines.Line2D at 0x7fb783c0f190>,\n",
              "  <matplotlib.lines.Line2D at 0x7fb783c0f690>,\n",
              "  <matplotlib.lines.Line2D at 0x7fb783b42590>,\n",
              "  <matplotlib.lines.Line2D at 0x7fb783b42a50>,\n",
              "  <matplotlib.lines.Line2D at 0x7fb783b54910>,\n",
              "  <matplotlib.lines.Line2D at 0x7fb783b54e10>]}"
            ]
          },
          "metadata": {},
          "execution_count": 104
        },
        {
          "output_type": "display_data",
          "data": {
            "image/png": "[encoded data removed]",
            "text/plain": [
              "<Figure size 432x288 with 1 Axes>"
            ]
          },
          "metadata": {
            "needs_background": "light"
          }
        }
      ]
    },
    {
      "cell_type": "code",
      "metadata": {
        "colab": {
          "base_uri": "https://localhost:8080/",
          "height": 639
        },
        "id": "RoodXZPUP4bu",
        "outputId": "1e3c778b-0f41-4d52-836a-f2b62e72ca82"
      },
      "source": [
        "plt.boxplot([df['DMC'], df['DC'], df['area']], labels = ['DMC', 'DC', 'area'])"
      ],
      "execution_count": null,
      "outputs": [
        {
          "output_type": "execute_result",
          "data": {
            "text/plain": [
              "{'boxes': [<matplotlib.lines.Line2D at 0x7fb783add610>,\n",
              "  <matplotlib.lines.Line2D at 0x7fb783aeabd0>,\n",
              "  <matplotlib.lines.Line2D at 0x7fb783a7cf10>],\n",
              " 'caps': [<matplotlib.lines.Line2D at 0x7fb783ae1690>,\n",
              "  <matplotlib.lines.Line2D at 0x7fb783ae1bd0>,\n",
              "  <matplotlib.lines.Line2D at 0x7fb783af4ad0>,\n",
              "  <matplotlib.lines.Line2D at 0x7fb783af4fd0>,\n",
              "  <matplotlib.lines.Line2D at 0x7fb783a85e90>,\n",
              "  <matplotlib.lines.Line2D at 0x7fb783a8e410>],\n",
              " 'fliers': [<matplotlib.lines.Line2D at 0x7fb783aea6d0>,\n",
              "  <matplotlib.lines.Line2D at 0x7fb783a7ca10>,\n",
              "  <matplotlib.lines.Line2D at 0x7fb783a8ee10>],\n",
              " 'means': [],\n",
              " 'medians': [<matplotlib.lines.Line2D at 0x7fb783aea190>,\n",
              "  <matplotlib.lines.Line2D at 0x7fb783a7c510>,\n",
              "  <matplotlib.lines.Line2D at 0x7fb783a8e910>],\n",
              " 'whiskers': [<matplotlib.lines.Line2D at 0x7fb783addbd0>,\n",
              "  <matplotlib.lines.Line2D at 0x7fb783ae1150>,\n",
              "  <matplotlib.lines.Line2D at 0x7fb783af4110>,\n",
              "  <matplotlib.lines.Line2D at 0x7fb783af45d0>,\n",
              "  <matplotlib.lines.Line2D at 0x7fb783a85450>,\n",
              "  <matplotlib.lines.Line2D at 0x7fb783a85990>]}"
            ]
          },
          "metadata": {},
          "execution_count": 105
        },
        {
          "output_type": "display_data",
          "data": {
            "image/png": "[encoded data removed]",
            "text/plain": [
              "<Figure size 432x288 with 1 Axes>"
            ]
          },
          "metadata": {
            "needs_background": "light"
          }
        }
      ]
    },
    {
      "cell_type": "code",
      "metadata": {
        "colab": {
          "base_uri": "https://localhost:8080/",
          "height": 520
        },
        "id": "052nqfSNP87n",
        "outputId": "aad9e5ea-3a82-4879-aa3d-ef4fdf87f878"
      },
      "source": [
        "plt.boxplot([df['X'], df['Y']], labels = ['X', 'Y'])"
      ],
      "execution_count": null,
      "outputs": [
        {
          "output_type": "execute_result",
          "data": {
            "text/plain": [
              "{'boxes': [<matplotlib.lines.Line2D at 0x7fb7839fb5d0>,\n",
              "  <matplotlib.lines.Line2D at 0x7fb783a0ab50>],\n",
              " 'caps': [<matplotlib.lines.Line2D at 0x7fb783a01650>,\n",
              "  <matplotlib.lines.Line2D at 0x7fb783a01b90>,\n",
              "  <matplotlib.lines.Line2D at 0x7fb783a12a90>,\n",
              "  <matplotlib.lines.Line2D at 0x7fb783a12f90>],\n",
              " 'fliers': [<matplotlib.lines.Line2D at 0x7fb783a0a690>,\n",
              "  <matplotlib.lines.Line2D at 0x7fb783a199d0>],\n",
              " 'means': [],\n",
              " 'medians': [<matplotlib.lines.Line2D at 0x7fb783a0a150>,\n",
              "  <matplotlib.lines.Line2D at 0x7fb783a194d0>],\n",
              " 'whiskers': [<matplotlib.lines.Line2D at 0x7fb7839fbb90>,\n",
              "  <matplotlib.lines.Line2D at 0x7fb783a01110>,\n",
              "  <matplotlib.lines.Line2D at 0x7fb783a120d0>,\n",
              "  <matplotlib.lines.Line2D at 0x7fb783a12590>]}"
            ]
          },
          "metadata": {},
          "execution_count": 106
        },
        {
          "output_type": "display_data",
          "data": {
            "image/png": "[encoded data removed]",
            "text/plain": [
              "<Figure size 432x288 with 1 Axes>"
            ]
          },
          "metadata": {
            "needs_background": "light"
          }
        }
      ]
    },
    {
      "cell_type": "code",
      "metadata": {
        "colab": {
          "base_uri": "https://localhost:8080/"
        },
        "id": "4ZIqadHyQEgk",
        "outputId": "630ae63c-91a1-4f62-d521-81cc058417c5"
      },
      "source": [
        "df.info()"
      ],
      "execution_count": null,
      "outputs": [
        {
          "output_type": "stream",
          "text": [
            "<class 'pandas.core.frame.DataFrame'>\n",
            "RangeIndex: 517 entries, 0 to 516\n",
            "Data columns (total 13 columns):\n",
            " #   Column  Non-Null Count  Dtype  \n",
            "---  ------  --------------  -----  \n",
            " 0   X       517 non-null    int64  \n",
            " 1   Y       517 non-null    int64  \n",
            " 2   month   517 non-null    object \n",
            " 3   day     517 non-null    object \n",
            " 4   FFMC    517 non-null    float64\n",
            " 5   DMC     517 non-null    float64\n",
            " 6   DC      517 non-null    float64\n",
            " 7   ISI     517 non-null    float64\n",
            " 8   temp    517 non-null    float64\n",
            " 9   RH      517 non-null    int64  \n",
            " 10  wind    517 non-null    float64\n",
            " 11  rain    517 non-null    float64\n",
            " 12  area    517 non-null    float64\n",
            "dtypes: float64(8), int64(3), object(2)\n",
            "memory usage: 52.6+ KB\n"
          ],
          "name": "stdout"
        }
      ]
    },
    {
      "cell_type": "code",
      "metadata": {
        "id": "rPvfiLCoS5O2"
      },
      "source": [
        "from sklearn.preprocessing import StandardScaler\n",
        "from sklearn.cluster import KMeans"
      ],
      "execution_count": null,
      "outputs": []
    },
    {
      "cell_type": "code",
      "metadata": {
        "colab": {
          "base_uri": "https://localhost:8080/",
          "height": 204
        },
        "id": "Ni55E2IkU84l",
        "outputId": "761344ae-3430-442f-996b-cd8298b1e6cc"
      },
      "source": [
        "df.head()"
      ],
      "execution_count": null,
      "outputs": [
        {
          "output_type": "execute_result",
          "data": {
            "text/html": [
              "<div>\n",
              "<style scoped>\n",
              "    .dataframe tbody tr th:only-of-type {\n",
              "        vertical-align: middle;\n",
              "    }\n",
              "\n",
              "    .dataframe tbody tr th {\n",
              "        vertical-align: top;\n",
              "    }\n",
              "\n",
              "    .dataframe thead th {\n",
              "        text-align: right;\n",
              "    }\n",
              "</style>\n",
              "<table border=\"1\" class=\"dataframe\">\n",
              "  <thead>\n",
              "    <tr style=\"text-align: right;\">\n",
              "      <th></th>\n",
              "      <th>X</th>\n",
              "      <th>Y</th>\n",
              "      <th>month</th>\n",
              "      <th>day</th>\n",
              "      <th>FFMC</th>\n",
              "      <th>DMC</th>\n",
              "      <th>DC</th>\n",
              "      <th>ISI</th>\n",
              "      <th>temp</th>\n",
              "      <th>RH</th>\n",
              "      <th>wind</th>\n",
              "      <th>rain</th>\n",
              "      <th>area</th>\n",
              "    </tr>\n",
              "  </thead>\n",
              "  <tbody>\n",
              "    <tr>\n",
              "      <th>0</th>\n",
              "      <td>7</td>\n",
              "      <td>5</td>\n",
              "      <td>mar</td>\n",
              "      <td>fri</td>\n",
              "      <td>86.2</td>\n",
              "      <td>26.2</td>\n",
              "      <td>94.3</td>\n",
              "      <td>5.1</td>\n",
              "      <td>8.2</td>\n",
              "      <td>51</td>\n",
              "      <td>6.7</td>\n",
              "      <td>0.0</td>\n",
              "      <td>0.0</td>\n",
              "    </tr>\n",
              "    <tr>\n",
              "      <th>1</th>\n",
              "      <td>7</td>\n",
              "      <td>4</td>\n",
              "      <td>oct</td>\n",
              "      <td>tue</td>\n",
              "      <td>90.6</td>\n",
              "      <td>35.4</td>\n",
              "      <td>669.1</td>\n",
              "      <td>6.7</td>\n",
              "      <td>18.0</td>\n",
              "      <td>33</td>\n",
              "      <td>0.9</td>\n",
              "      <td>0.0</td>\n",
              "      <td>0.0</td>\n",
              "    </tr>\n",
              "    <tr>\n",
              "      <th>2</th>\n",
              "      <td>7</td>\n",
              "      <td>4</td>\n",
              "      <td>oct</td>\n",
              "      <td>sat</td>\n",
              "      <td>90.6</td>\n",
              "      <td>43.7</td>\n",
              "      <td>686.9</td>\n",
              "      <td>6.7</td>\n",
              "      <td>14.6</td>\n",
              "      <td>33</td>\n",
              "      <td>1.3</td>\n",
              "      <td>0.0</td>\n",
              "      <td>0.0</td>\n",
              "    </tr>\n",
              "    <tr>\n",
              "      <th>3</th>\n",
              "      <td>8</td>\n",
              "      <td>6</td>\n",
              "      <td>mar</td>\n",
              "      <td>fri</td>\n",
              "      <td>91.7</td>\n",
              "      <td>33.3</td>\n",
              "      <td>77.5</td>\n",
              "      <td>9.0</td>\n",
              "      <td>8.3</td>\n",
              "      <td>97</td>\n",
              "      <td>4.0</td>\n",
              "      <td>0.2</td>\n",
              "      <td>0.0</td>\n",
              "    </tr>\n",
              "    <tr>\n",
              "      <th>4</th>\n",
              "      <td>8</td>\n",
              "      <td>6</td>\n",
              "      <td>mar</td>\n",
              "      <td>sun</td>\n",
              "      <td>89.3</td>\n",
              "      <td>51.3</td>\n",
              "      <td>102.2</td>\n",
              "      <td>9.6</td>\n",
              "      <td>11.4</td>\n",
              "      <td>99</td>\n",
              "      <td>1.8</td>\n",
              "      <td>0.0</td>\n",
              "      <td>0.0</td>\n",
              "    </tr>\n",
              "  </tbody>\n",
              "</table>\n",
              "</div>"
            ],
            "text/plain": [
              "   X  Y month  day  FFMC   DMC     DC  ISI  temp  RH  wind  rain  area\n",
              "0  7  5   mar  fri  86.2  26.2   94.3  5.1   8.2  51   6.7   0.0   0.0\n",
              "1  7  4   oct  tue  90.6  35.4  669.1  6.7  18.0  33   0.9   0.0   0.0\n",
              "2  7  4   oct  sat  90.6  43.7  686.9  6.7  14.6  33   1.3   0.0   0.0\n",
              "3  8  6   mar  fri  91.7  33.3   77.5  9.0   8.3  97   4.0   0.2   0.0\n",
              "4  8  6   mar  sun  89.3  51.3  102.2  9.6  11.4  99   1.8   0.0   0.0"
            ]
          },
          "metadata": {},
          "execution_count": 27
        }
      ]
    },
    {
      "cell_type": "code",
      "metadata": {
        "id": "wmZRLqLQVKZo"
      },
      "source": [
        "X = df[['FFMC', 'DMC', 'DC', 'ISI', 'temp', 'RH', 'wind', 'rain', 'area', 'X', 'Y']]"
      ],
      "execution_count": null,
      "outputs": []
    },
    {
      "cell_type": "code",
      "metadata": {
        "id": "3IRTRy0WU_LQ"
      },
      "source": [
        "scaler = StandardScaler()\n",
        "scaled_df = scaler.fit_transform(X)"
      ],
      "execution_count": null,
      "outputs": []
    },
    {
      "cell_type": "code",
      "metadata": {
        "colab": {
          "base_uri": "https://localhost:8080/"
        },
        "id": "HRIdgfyAVEWI",
        "outputId": "5bc1b631-b587-443c-d53f-301ee8c9087b"
      },
      "source": [
        "kmeans = KMeans(n_clusters = 5)\n",
        "kmeans.fit(scaled_df)"
      ],
      "execution_count": null,
      "outputs": [
        {
          "output_type": "execute_result",
          "data": {
            "text/plain": [
              "KMeans(algorithm='auto', copy_x=True, init='k-means++', max_iter=300,\n",
              "       n_clusters=5, n_init=10, n_jobs=None, precompute_distances='auto',\n",
              "       random_state=None, tol=0.0001, verbose=0)"
            ]
          },
          "metadata": {},
          "execution_count": 31
        }
      ]
    },
    {
      "cell_type": "code",
      "metadata": {
        "id": "nSx6SQzqVea5"
      },
      "source": [
        "df['cluster'] = kmeans.labels_"
      ],
      "execution_count": null,
      "outputs": []
    },
    {
      "cell_type": "code",
      "metadata": {
        "colab": {
          "base_uri": "https://localhost:8080/",
          "height": 298
        },
        "id": "0QvKeU0UVgUx",
        "outputId": "9a34ab8b-1788-4ac5-c82f-2e2a51b33885"
      },
      "source": [
        "plt.scatter(df['X'], df['Y'], c = df['cluster'])\n",
        "plt.title('Clusters of Fires')\n"
      ],
      "execution_count": null,
      "outputs": [
        {
          "output_type": "execute_result",
          "data": {
            "text/plain": [
              "Text(0.5, 1.0, 'Clusters of Fires')"
            ]
          },
          "metadata": {},
          "execution_count": 108
        },
        {
          "output_type": "display_data",
          "data": {
            "image/png": "[encoded data removed]",
            "text/plain": [
              "<Figure size 432x288 with 1 Axes>"
            ]
          },
          "metadata": {
            "needs_background": "light"
          }
        }
      ]
    },
    {
      "cell_type": "code",
      "metadata": {
        "colab": {
          "base_uri": "https://localhost:8080/",
          "height": 295
        },
        "id": "Jscmih_sVyHT",
        "outputId": "6501ab1d-68a2-4cb4-a476-858e0e501941"
      },
      "source": [
        "plt.scatter(df['FFMC'], df['DMC'], c = df['cluster'])\n",
        "plt.xlabel('Fine Fuel Moisture Code')\n",
        "plt.ylabel('Duff Moisture Code')\n",
        "plt.title('Clusters of Fires');"
      ],
      "execution_count": null,
      "outputs": [
        {
          "output_type": "display_data",
          "data": {
            "image/png": "[encoded data removed]",
            "text/plain": [
              "<Figure size 432x288 with 1 Axes>"
            ]
          },
          "metadata": {
            "needs_background": "light"
          }
        }
      ]
    },
    {
      "cell_type": "code",
      "metadata": {
        "colab": {
          "base_uri": "https://localhost:8080/",
          "height": 295
        },
        "id": "H9NUPDpxWPF0",
        "outputId": "e5f51fdf-b5b8-4ffa-c8e6-5e8d585d0531"
      },
      "source": [
        "plt.scatter(df['wind'], df['rain'], c = df['cluster'])\n",
        "plt.xlabel('Wind')\n",
        "plt.ylabel('Rain')\n",
        "plt.title('Clusters of Fires');"
      ],
      "execution_count": null,
      "outputs": [
        {
          "output_type": "display_data",
          "data": {
            "image/png": "[encoded data removed]",
            "text/plain": [
              "<Figure size 432x288 with 1 Axes>"
            ]
          },
          "metadata": {
            "needs_background": "light"
          }
        }
      ]
    },
    {
      "cell_type": "code",
      "metadata": {
        "colab": {
          "base_uri": "https://localhost:8080/"
        },
        "id": "1lwOpw7RWlkZ",
        "outputId": "745f2ec2-979d-42de-e359-13a09a192c6e"
      },
      "source": [
        "df['cluster'].value_counts()"
      ],
      "execution_count": null,
      "outputs": [
        {
          "output_type": "execute_result",
          "data": {
            "text/plain": [
              "1    198\n",
              "4    125\n",
              "0    108\n",
              "3     85\n",
              "2      1\n",
              "Name: cluster, dtype: int64"
            ]
          },
          "metadata": {},
          "execution_count": 42
        }
      ]
    },
    {
      "cell_type": "code",
      "metadata": {
        "id": "-3K4T0jZWs1T"
      },
      "source": [
        "seg1 = df[df['cluster'] == 0]\n",
        "seg2 = df[df['cluster'] == 1]\n",
        "seg3 = df[df['cluster'] == 2]\n",
        "seg4 = df[df['cluster'] == 3]\n",
        "seg5 = df[df['cluster'] == 4]"
      ],
      "execution_count": null,
      "outputs": []
    },
    {
      "cell_type": "code",
      "metadata": {
        "colab": {
          "base_uri": "https://localhost:8080/"
        },
        "id": "ZE_xgllTW_RN",
        "outputId": "db424bdb-cf5f-4b7c-cbcf-4e1ca5bcc26b"
      },
      "source": [
        "fire_segs = [seg1, seg2, seg3, seg4, seg5]\n",
        "for segment in fire_segs:\n",
        "  print(segment.describe().T)"
      ],
      "execution_count": null,
      "outputs": [
        {
          "output_type": "stream",
          "text": [
            "         count        mean         std   min     25%    50%       75%     max\n",
            "X        108.0    4.870370    1.788293   1.0   4.000   5.00    6.0000    9.00\n",
            "Y        108.0    4.481481    1.171958   2.0   4.000   4.00    5.0000    9.00\n",
            "FFMC     108.0   85.462037    9.739051  18.7  84.675  87.60   90.7250   94.00\n",
            "DMC      108.0   30.262037   20.888935   1.1  15.075  25.95   40.2500   96.20\n",
            "DC       108.0  126.425926  144.829501   7.9  45.925  80.80  103.8000  706.60\n",
            "ISI      108.0    5.430556    3.133284   0.0   2.800   5.00    7.8000   12.50\n",
            "temp     108.0   11.912963    4.570529   2.2   8.600  12.25   15.2000   23.30\n",
            "RH       108.0   46.555556   19.853827  18.0  29.750  43.00   59.0000  100.00\n",
            "wind     108.0    4.798148    2.096815   0.9   3.100   4.90    5.8000    9.40\n",
            "rain     108.0    0.001852    0.019245   0.0   0.000   0.00    0.0000    0.20\n",
            "area     108.0    5.679537   11.065593   0.0   0.000   0.00    6.9275   61.13\n",
            "cluster  108.0    0.000000    0.000000   0.0   0.000   0.00    0.0000    0.00\n",
            "         count        mean        std  ...      50%       75%     max\n",
            "X        198.0    2.878788   1.516560  ...    3.000    4.0000    7.00\n",
            "Y        198.0    3.606061   0.995606  ...    4.000    4.0000    6.00\n",
            "FFMC     198.0   92.304545   1.848097  ...   92.200   93.4000   96.20\n",
            "DMC      198.0  126.428283  43.549384  ...  122.000  144.6500  290.00\n",
            "DC       198.0  669.471717  92.089491  ...  688.000  724.0000  855.30\n",
            "ISI      198.0    9.852020   3.632282  ...    8.900   11.9250   21.30\n",
            "temp     198.0   21.957576   3.956363  ...   21.450   24.2000   33.10\n",
            "RH       198.0   37.954545  10.160287  ...   39.000   44.7500   70.00\n",
            "wind     198.0    3.405051   1.419864  ...    3.100    4.5000    7.20\n",
            "rain     198.0    0.000000   0.000000  ...    0.000    0.0000    0.00\n",
            "area     198.0    8.822929  27.445946  ...    0.695    5.6825  212.88\n",
            "cluster  198.0    1.000000   0.000000  ...    1.000    1.0000    1.00\n",
            "\n",
            "[12 rows x 8 columns]\n",
            "         count    mean  std     min     25%     50%     75%     max\n",
            "X          1.0    7.00  NaN    7.00    7.00    7.00    7.00    7.00\n",
            "Y          1.0    5.00  NaN    5.00    5.00    5.00    5.00    5.00\n",
            "FFMC       1.0   96.10  NaN   96.10   96.10   96.10   96.10   96.10\n",
            "DMC        1.0  181.10  NaN  181.10  181.10  181.10  181.10  181.10\n",
            "DC         1.0  671.20  NaN  671.20  671.20  671.20  671.20  671.20\n",
            "ISI        1.0   14.30  NaN   14.30   14.30   14.30   14.30   14.30\n",
            "temp       1.0   27.30  NaN   27.30   27.30   27.30   27.30   27.30\n",
            "RH         1.0   63.00  NaN   63.00   63.00   63.00   63.00   63.00\n",
            "wind       1.0    4.90  NaN    4.90    4.90    4.90    4.90    4.90\n",
            "rain       1.0    6.40  NaN    6.40    6.40    6.40    6.40    6.40\n",
            "area       1.0   10.82  NaN   10.82   10.82   10.82   10.82   10.82\n",
            "cluster    1.0    2.00  NaN    2.00    2.00    2.00    2.00    2.00\n",
            "         count        mean         std    min    25%    50%     75%     max\n",
            "X         85.0    4.847059    2.107277    1.0    3.0    5.0    7.00    8.00\n",
            "Y         85.0    4.305882    0.938889    2.0    4.0    4.0    5.00    6.00\n",
            "FFMC      85.0   91.227059    2.394457   81.6   90.2   91.2   92.10   96.10\n",
            "DMC       85.0  156.083529   68.884508   41.5   99.0  139.4  203.20  291.30\n",
            "DC        85.0  685.504706  114.533300  309.9  614.5  709.9  752.60  860.60\n",
            "ISI       85.0    9.598824    3.795125    1.9    7.1    8.4   11.40   20.30\n",
            "temp      85.0   16.097647    3.821150    5.1   13.8   16.2   18.90   23.40\n",
            "RH        85.0   64.788235   12.563263   34.0   57.0   65.0   73.00   96.00\n",
            "wind      85.0    5.216471    1.775887    0.9    4.0    4.9    6.30    9.40\n",
            "rain      85.0    0.054118    0.223369    0.0    0.0    0.0    0.00    1.40\n",
            "area      85.0    5.841882   11.706618    0.0    0.0    0.0    5.23   54.29\n",
            "cluster   85.0    3.000000    0.000000    3.0    3.0    3.0    3.00    3.00\n",
            "         count       mean         std    min    25%     50%     75%      max\n",
            "X        125.0    7.19200    1.104945    4.0    6.0    7.00    8.00     9.00\n",
            "Y        125.0    5.23200    1.122612    3.0    4.0    5.00    6.00     9.00\n",
            "FFMC     125.0   92.05360    2.319189   81.6   91.4   92.20   93.30    96.20\n",
            "DMC      125.0  124.57360   52.813571   32.8   90.0  115.40  147.80   273.80\n",
            "DC       125.0  625.09200  134.854082  200.0  578.8  669.10  706.70   819.10\n",
            "ISI      125.0   10.37440    5.717403    1.9    7.1    9.00   12.20    56.10\n",
            "temp     125.0   21.88720    3.889294   13.7   19.3   21.30   24.30    33.30\n",
            "RH       125.0   38.27200   10.050177   21.0   30.0   37.00   44.00    67.00\n",
            "wind     125.0    3.49120    1.350568    0.9    2.2    3.60    4.50     6.70\n",
            "rain     125.0    0.00000    0.000000    0.0    0.0    0.00    0.00     0.00\n",
            "area     125.0   30.19472  122.714829    0.0    0.0    1.52    8.16  1090.84\n",
            "cluster  125.0    4.00000    0.000000    4.0    4.0    4.00    4.00     4.00\n"
          ],
          "name": "stdout"
        }
      ]
    },
    {
      "cell_type": "code",
      "metadata": {
        "id": "21wFvWUkXH_n"
      },
      "source": [
        "temp_means = [np.mean(segment['temp']) for segment in fire_segs]\n",
        "X_means = [np.mean(segment['X']) for segment in fire_segs]\n",
        "Y_means = [np.mean(segment['Y']) for segment in fire_segs]\n",
        "ffmc_means = [np.mean(segment['FFMC']) for segment in fire_segs]\n",
        "dmc_means = [np.mean(segment['DMC']) for segment in fire_segs]\n",
        "wind_means = [np.mean(segment['wind']) for segment in fire_segs]\n",
        "rain_means = [np.mean(segment['rain']) for segment in fire_segs]"
      ],
      "execution_count": null,
      "outputs": []
    },
    {
      "cell_type": "code",
      "metadata": {
        "id": "SfH0DMFMXzlH"
      },
      "source": [
        "summary_df = pd.DataFrame({'Fire Segment': ['seg1', 'seg2', 'seg3', 'seg4', 'seg5'], 'Temp Means': temp_means,'X Means': X_means, 'Y Means': Y_means, 'FFMC Means': ffmc_means, 'DMC Means': dmc_means, 'Wind Means': wind_means, 'Rain Means': rain_means})"
      ],
      "execution_count": null,
      "outputs": []
    },
    {
      "cell_type": "code",
      "metadata": {
        "colab": {
          "base_uri": "https://localhost:8080/",
          "height": 366
        },
        "id": "YfLQsOmVhID0",
        "outputId": "fd9e9ea6-bfa4-40c6-e401-88467be604e4"
      },
      "source": [
        "sns.barplot(summary_df['Fire Segment'], summary_df['Temp Means'])\n",
        "plt.ylabel('Temp')\n",
        "plt.title('Mean Temperature for each Fire Segment')"
      ],
      "execution_count": null,
      "outputs": [
        {
          "output_type": "stream",
          "text": [
            "/usr/local/lib/python3.7/dist-packages/seaborn/_decorators.py:43: FutureWarning: Pass the following variables as keyword args: x, y. From version 0.12, the only valid positional argument will be `data`, and passing other arguments without an explicit keyword will result in an error or misinterpretation.\n",
            "  FutureWarning\n"
          ],
          "name": "stderr"
        },
        {
          "output_type": "execute_result",
          "data": {
            "text/plain": [
              "Text(0.5, 1.0, 'Mean Temperature for each Fire Segment')"
            ]
          },
          "metadata": {},
          "execution_count": 112
        },
        {
          "output_type": "display_data",
          "data": {
            "image/png": "[encoded data removed]",
            "text/plain": [
              "<Figure size 432x288 with 1 Axes>"
            ]
          },
          "metadata": {
            "needs_background": "light"
          }
        }
      ]
    },
    {
      "cell_type": "code",
      "metadata": {
        "colab": {
          "base_uri": "https://localhost:8080/",
          "height": 298
        },
        "id": "ME7CkKobYWRe",
        "outputId": "9a36e6dd-c9c5-408e-b54d-834cac64396e"
      },
      "source": [
        "plt.bar(summary_df['Fire Segment'], summary_df['X Means'])\n",
        "plt.ylabel('X')\n",
        "plt.title('Mean X for each Fire Segment')"
      ],
      "execution_count": null,
      "outputs": [
        {
          "output_type": "execute_result",
          "data": {
            "text/plain": [
              "Text(0.5, 1.0, 'Mean X for each Fire Segment')"
            ]
          },
          "metadata": {},
          "execution_count": 114
        },
        {
          "output_type": "display_data",
          "data": {
            "image/png": "[encoded data removed]",
            "text/plain": [
              "<Figure size 432x288 with 1 Axes>"
            ]
          },
          "metadata": {
            "needs_background": "light"
          }
        }
      ]
    },
    {
      "cell_type": "code",
      "metadata": {
        "colab": {
          "base_uri": "https://localhost:8080/",
          "height": 298
        },
        "id": "9zTeHy8pYim4",
        "outputId": "f64892db-72a4-4b25-db96-283aa974735e"
      },
      "source": [
        "plt.bar(summary_df['Fire Segment'], summary_df['FFMC Means'])\n",
        "plt.ylabel('FFMC')\n",
        "plt.title('Mean Fine Fuel Moisture Code for each Fire Segment')"
      ],
      "execution_count": null,
      "outputs": [
        {
          "output_type": "execute_result",
          "data": {
            "text/plain": [
              "Text(0.5, 1.0, 'Mean Fine Fuel Moisture Code for each Fire Segment')"
            ]
          },
          "metadata": {},
          "execution_count": 56
        },
        {
          "output_type": "display_data",
          "data": {
            "image/png": "[encoded data removed]",
            "text/plain": [
              "<Figure size 432x288 with 1 Axes>"
            ]
          },
          "metadata": {
            "needs_background": "light"
          }
        }
      ]
    },
    {
      "cell_type": "code",
      "metadata": {
        "colab": {
          "base_uri": "https://localhost:8080/",
          "height": 298
        },
        "id": "uz5Bm-B4ZJvh",
        "outputId": "81096e19-4170-4d41-a876-d826634594d7"
      },
      "source": [
        "plt.bar(summary_df['Fire Segment'], summary_df['Wind Means'])\n",
        "plt.ylabel('Wind')\n",
        "plt.title('Mean Wind for each Fire Segment')"
      ],
      "execution_count": null,
      "outputs": [
        {
          "output_type": "execute_result",
          "data": {
            "text/plain": [
              "Text(0.5, 1.0, 'Mean Wind for each Fire Segment')"
            ]
          },
          "metadata": {},
          "execution_count": 57
        },
        {
          "output_type": "display_data",
          "data": {
            "image/png": "[encoded data removed]",
            "text/plain": [
              "<Figure size 432x288 with 1 Axes>"
            ]
          },
          "metadata": {
            "needs_background": "light"
          }
        }
      ]
    },
    {
      "cell_type": "code",
      "metadata": {
        "id": "6WJj7NJxZeQ0"
      },
      "source": [
        "from sklearn.cluster import KMeans, DBSCAN, AgglomerativeClustering\n",
        "from sklearn.metrics import silhouette_score\n",
        "import scipy.cluster.hierarchy as sch"
      ],
      "execution_count": null,
      "outputs": []
    },
    {
      "cell_type": "code",
      "metadata": {
        "colab": {
          "base_uri": "https://localhost:8080/",
          "height": 204
        },
        "id": "JCNNw1lEZ6CR",
        "outputId": "1c23668b-0107-42c9-cf03-b34bb6a391f1"
      },
      "source": [
        "df.head()"
      ],
      "execution_count": null,
      "outputs": [
        {
          "output_type": "execute_result",
          "data": {
            "text/html": [
              "<div>\n",
              "<style scoped>\n",
              "    .dataframe tbody tr th:only-of-type {\n",
              "        vertical-align: middle;\n",
              "    }\n",
              "\n",
              "    .dataframe tbody tr th {\n",
              "        vertical-align: top;\n",
              "    }\n",
              "\n",
              "    .dataframe thead th {\n",
              "        text-align: right;\n",
              "    }\n",
              "</style>\n",
              "<table border=\"1\" class=\"dataframe\">\n",
              "  <thead>\n",
              "    <tr style=\"text-align: right;\">\n",
              "      <th></th>\n",
              "      <th>X</th>\n",
              "      <th>Y</th>\n",
              "      <th>month</th>\n",
              "      <th>day</th>\n",
              "      <th>FFMC</th>\n",
              "      <th>DMC</th>\n",
              "      <th>DC</th>\n",
              "      <th>ISI</th>\n",
              "      <th>temp</th>\n",
              "      <th>RH</th>\n",
              "      <th>wind</th>\n",
              "      <th>rain</th>\n",
              "      <th>area</th>\n",
              "      <th>cluster</th>\n",
              "    </tr>\n",
              "  </thead>\n",
              "  <tbody>\n",
              "    <tr>\n",
              "      <th>0</th>\n",
              "      <td>7</td>\n",
              "      <td>5</td>\n",
              "      <td>mar</td>\n",
              "      <td>fri</td>\n",
              "      <td>86.2</td>\n",
              "      <td>26.2</td>\n",
              "      <td>94.3</td>\n",
              "      <td>5.1</td>\n",
              "      <td>8.2</td>\n",
              "      <td>51</td>\n",
              "      <td>6.7</td>\n",
              "      <td>0.0</td>\n",
              "      <td>0.0</td>\n",
              "      <td>0</td>\n",
              "    </tr>\n",
              "    <tr>\n",
              "      <th>1</th>\n",
              "      <td>7</td>\n",
              "      <td>4</td>\n",
              "      <td>oct</td>\n",
              "      <td>tue</td>\n",
              "      <td>90.6</td>\n",
              "      <td>35.4</td>\n",
              "      <td>669.1</td>\n",
              "      <td>6.7</td>\n",
              "      <td>18.0</td>\n",
              "      <td>33</td>\n",
              "      <td>0.9</td>\n",
              "      <td>0.0</td>\n",
              "      <td>0.0</td>\n",
              "      <td>4</td>\n",
              "    </tr>\n",
              "    <tr>\n",
              "      <th>2</th>\n",
              "      <td>7</td>\n",
              "      <td>4</td>\n",
              "      <td>oct</td>\n",
              "      <td>sat</td>\n",
              "      <td>90.6</td>\n",
              "      <td>43.7</td>\n",
              "      <td>686.9</td>\n",
              "      <td>6.7</td>\n",
              "      <td>14.6</td>\n",
              "      <td>33</td>\n",
              "      <td>1.3</td>\n",
              "      <td>0.0</td>\n",
              "      <td>0.0</td>\n",
              "      <td>4</td>\n",
              "    </tr>\n",
              "    <tr>\n",
              "      <th>3</th>\n",
              "      <td>8</td>\n",
              "      <td>6</td>\n",
              "      <td>mar</td>\n",
              "      <td>fri</td>\n",
              "      <td>91.7</td>\n",
              "      <td>33.3</td>\n",
              "      <td>77.5</td>\n",
              "      <td>9.0</td>\n",
              "      <td>8.3</td>\n",
              "      <td>97</td>\n",
              "      <td>4.0</td>\n",
              "      <td>0.2</td>\n",
              "      <td>0.0</td>\n",
              "      <td>0</td>\n",
              "    </tr>\n",
              "    <tr>\n",
              "      <th>4</th>\n",
              "      <td>8</td>\n",
              "      <td>6</td>\n",
              "      <td>mar</td>\n",
              "      <td>sun</td>\n",
              "      <td>89.3</td>\n",
              "      <td>51.3</td>\n",
              "      <td>102.2</td>\n",
              "      <td>9.6</td>\n",
              "      <td>11.4</td>\n",
              "      <td>99</td>\n",
              "      <td>1.8</td>\n",
              "      <td>0.0</td>\n",
              "      <td>0.0</td>\n",
              "      <td>0</td>\n",
              "    </tr>\n",
              "  </tbody>\n",
              "</table>\n",
              "</div>"
            ],
            "text/plain": [
              "   X  Y month  day  FFMC   DMC     DC  ISI  temp  RH  wind  rain  area  cluster\n",
              "0  7  5   mar  fri  86.2  26.2   94.3  5.1   8.2  51   6.7   0.0   0.0        0\n",
              "1  7  4   oct  tue  90.6  35.4  669.1  6.7  18.0  33   0.9   0.0   0.0        4\n",
              "2  7  4   oct  sat  90.6  43.7  686.9  6.7  14.6  33   1.3   0.0   0.0        4\n",
              "3  8  6   mar  fri  91.7  33.3   77.5  9.0   8.3  97   4.0   0.2   0.0        0\n",
              "4  8  6   mar  sun  89.3  51.3  102.2  9.6  11.4  99   1.8   0.0   0.0        0"
            ]
          },
          "metadata": {},
          "execution_count": 75
        }
      ]
    },
    {
      "cell_type": "code",
      "metadata": {
        "id": "7sV4WLWRZ61c"
      },
      "source": [
        "scaler = StandardScaler()\n",
        "scaled_df = scaler.fit_transform(X)"
      ],
      "execution_count": null,
      "outputs": []
    },
    {
      "cell_type": "code",
      "metadata": {
        "colab": {
          "base_uri": "https://localhost:8080/",
          "height": 282
        },
        "id": "iT3ylWJ9aE7i",
        "outputId": "2f1617d7-3228-4ef0-9097-7fde32dfa6bc"
      },
      "source": [
        "silhouette_scores = []\n",
        "for i in range(2, 11):\n",
        "  kmeans = KMeans(n_clusters = i)\n",
        "  kmeans.fit(scaled_df)\n",
        "  silhouette_scores.append(silhouette_score(scaled_df, kmeans.labels_))\n",
        "plt.plot(range(2, 11), silhouette_scores, marker = '.')\n",
        "plt.xlabel('Number of Clusters')\n",
        "plt.ylabel('Silhouette Score');"
      ],
      "execution_count": null,
      "outputs": [
        {
          "output_type": "display_data",
          "data": {
            "image/png": "[encoded data removed]",
            "text/plain": [
              "<Figure size 432x288 with 1 Axes>"
            ]
          },
          "metadata": {
            "needs_background": "light"
          }
        }
      ]
    },
    {
      "cell_type": "code",
      "metadata": {
        "colab": {
          "base_uri": "https://localhost:8080/"
        },
        "id": "KE7xgETdac0y",
        "outputId": "2650e7db-6f8c-4d22-dd60-d74fc96e35e8"
      },
      "source": [
        "kmeans = KMeans(n_clusters = 2)\n",
        "kmeans.fit(scaled_df)"
      ],
      "execution_count": null,
      "outputs": [
        {
          "output_type": "execute_result",
          "data": {
            "text/plain": [
              "KMeans(algorithm='auto', copy_x=True, init='k-means++', max_iter=300,\n",
              "       n_clusters=2, n_init=10, n_jobs=None, precompute_distances='auto',\n",
              "       random_state=None, tol=0.0001, verbose=0)"
            ]
          },
          "metadata": {},
          "execution_count": 78
        }
      ]
    },
    {
      "cell_type": "code",
      "metadata": {
        "id": "A7MU28V9bQTO"
      },
      "source": [
        "df['kmeans_cluster'] = kmeans.labels_"
      ],
      "execution_count": null,
      "outputs": []
    },
    {
      "cell_type": "code",
      "metadata": {
        "colab": {
          "base_uri": "https://localhost:8080/",
          "height": 304
        },
        "id": "dxscDjOybUDR",
        "outputId": "cc3b8d18-4062-444d-90ca-1f4d6f6446ad"
      },
      "source": [
        "plt.figure(figsize = (15, 5))\n",
        "sch.dendrogram(sch.linkage(scaled_df, method = 'ward'))\n",
        "plt.xlabel('Data Points');"
      ],
      "execution_count": null,
      "outputs": [
        {
          "output_type": "display_data",
          "data": {
            "image/png": "[encoded data removed]",
            "text/plain": [
              "<Figure size 1080x360 with 1 Axes>"
            ]
          },
          "metadata": {
            "needs_background": "light"
          }
        }
      ]
    },
    {
      "cell_type": "code",
      "metadata": {
        "colab": {
          "base_uri": "https://localhost:8080/"
        },
        "id": "yVDh9Y2Cbb4k",
        "outputId": "c7136a85-bd96-4d6e-d821-a9373e975c34"
      },
      "source": [
        "hc = AgglomerativeClustering(n_clusters = 3)\n",
        "hc.fit(scaled_df)"
      ],
      "execution_count": null,
      "outputs": [
        {
          "output_type": "execute_result",
          "data": {
            "text/plain": [
              "AgglomerativeClustering(affinity='euclidean', compute_full_tree='auto',\n",
              "                        connectivity=None, distance_threshold=None,\n",
              "                        linkage='ward', memory=None, n_clusters=3)"
            ]
          },
          "metadata": {},
          "execution_count": 81
        }
      ]
    },
    {
      "cell_type": "code",
      "metadata": {
        "id": "uE6ZxXMabjov"
      },
      "source": [
        "df['hc_cluster'] = hc.labels_"
      ],
      "execution_count": null,
      "outputs": []
    },
    {
      "cell_type": "code",
      "metadata": {
        "id": "o6FgdvvabmIU"
      },
      "source": [
        "dbs = DBSCAN(eps = 0.5, min_samples = 5).fit(scaled_df)"
      ],
      "execution_count": null,
      "outputs": []
    },
    {
      "cell_type": "code",
      "metadata": {
        "id": "aubIiw3lbro2"
      },
      "source": [
        "df['dbs_cluster'] = dbs.labels_"
      ],
      "execution_count": null,
      "outputs": []
    },
    {
      "cell_type": "code",
      "metadata": {
        "colab": {
          "base_uri": "https://localhost:8080/",
          "height": 224
        },
        "id": "AoeRRgslbuIO",
        "outputId": "fac5c948-1f39-42b6-d82f-0834f2bb1fa9"
      },
      "source": [
        "df.head()"
      ],
      "execution_count": null,
      "outputs": [
        {
          "output_type": "execute_result",
          "data": {
            "text/html": [
              "<div>\n",
              "<style scoped>\n",
              "    .dataframe tbody tr th:only-of-type {\n",
              "        vertical-align: middle;\n",
              "    }\n",
              "\n",
              "    .dataframe tbody tr th {\n",
              "        vertical-align: top;\n",
              "    }\n",
              "\n",
              "    .dataframe thead th {\n",
              "        text-align: right;\n",
              "    }\n",
              "</style>\n",
              "<table border=\"1\" class=\"dataframe\">\n",
              "  <thead>\n",
              "    <tr style=\"text-align: right;\">\n",
              "      <th></th>\n",
              "      <th>X</th>\n",
              "      <th>Y</th>\n",
              "      <th>month</th>\n",
              "      <th>day</th>\n",
              "      <th>FFMC</th>\n",
              "      <th>DMC</th>\n",
              "      <th>DC</th>\n",
              "      <th>ISI</th>\n",
              "      <th>temp</th>\n",
              "      <th>RH</th>\n",
              "      <th>wind</th>\n",
              "      <th>rain</th>\n",
              "      <th>area</th>\n",
              "      <th>cluster</th>\n",
              "      <th>kmeans_cluster</th>\n",
              "      <th>hc_cluster</th>\n",
              "      <th>dbs_cluster</th>\n",
              "    </tr>\n",
              "  </thead>\n",
              "  <tbody>\n",
              "    <tr>\n",
              "      <th>0</th>\n",
              "      <td>7</td>\n",
              "      <td>5</td>\n",
              "      <td>mar</td>\n",
              "      <td>fri</td>\n",
              "      <td>86.2</td>\n",
              "      <td>26.2</td>\n",
              "      <td>94.3</td>\n",
              "      <td>5.1</td>\n",
              "      <td>8.2</td>\n",
              "      <td>51</td>\n",
              "      <td>6.7</td>\n",
              "      <td>0.0</td>\n",
              "      <td>0.0</td>\n",
              "      <td>0</td>\n",
              "      <td>0</td>\n",
              "      <td>1</td>\n",
              "      <td>-1</td>\n",
              "    </tr>\n",
              "    <tr>\n",
              "      <th>1</th>\n",
              "      <td>7</td>\n",
              "      <td>4</td>\n",
              "      <td>oct</td>\n",
              "      <td>tue</td>\n",
              "      <td>90.6</td>\n",
              "      <td>35.4</td>\n",
              "      <td>669.1</td>\n",
              "      <td>6.7</td>\n",
              "      <td>18.0</td>\n",
              "      <td>33</td>\n",
              "      <td>0.9</td>\n",
              "      <td>0.0</td>\n",
              "      <td>0.0</td>\n",
              "      <td>4</td>\n",
              "      <td>1</td>\n",
              "      <td>0</td>\n",
              "      <td>-1</td>\n",
              "    </tr>\n",
              "    <tr>\n",
              "      <th>2</th>\n",
              "      <td>7</td>\n",
              "      <td>4</td>\n",
              "      <td>oct</td>\n",
              "      <td>sat</td>\n",
              "      <td>90.6</td>\n",
              "      <td>43.7</td>\n",
              "      <td>686.9</td>\n",
              "      <td>6.7</td>\n",
              "      <td>14.6</td>\n",
              "      <td>33</td>\n",
              "      <td>1.3</td>\n",
              "      <td>0.0</td>\n",
              "      <td>0.0</td>\n",
              "      <td>4</td>\n",
              "      <td>1</td>\n",
              "      <td>0</td>\n",
              "      <td>-1</td>\n",
              "    </tr>\n",
              "    <tr>\n",
              "      <th>3</th>\n",
              "      <td>8</td>\n",
              "      <td>6</td>\n",
              "      <td>mar</td>\n",
              "      <td>fri</td>\n",
              "      <td>91.7</td>\n",
              "      <td>33.3</td>\n",
              "      <td>77.5</td>\n",
              "      <td>9.0</td>\n",
              "      <td>8.3</td>\n",
              "      <td>97</td>\n",
              "      <td>4.0</td>\n",
              "      <td>0.2</td>\n",
              "      <td>0.0</td>\n",
              "      <td>0</td>\n",
              "      <td>0</td>\n",
              "      <td>0</td>\n",
              "      <td>-1</td>\n",
              "    </tr>\n",
              "    <tr>\n",
              "      <th>4</th>\n",
              "      <td>8</td>\n",
              "      <td>6</td>\n",
              "      <td>mar</td>\n",
              "      <td>sun</td>\n",
              "      <td>89.3</td>\n",
              "      <td>51.3</td>\n",
              "      <td>102.2</td>\n",
              "      <td>9.6</td>\n",
              "      <td>11.4</td>\n",
              "      <td>99</td>\n",
              "      <td>1.8</td>\n",
              "      <td>0.0</td>\n",
              "      <td>0.0</td>\n",
              "      <td>0</td>\n",
              "      <td>0</td>\n",
              "      <td>0</td>\n",
              "      <td>-1</td>\n",
              "    </tr>\n",
              "  </tbody>\n",
              "</table>\n",
              "</div>"
            ],
            "text/plain": [
              "   X  Y month  day  ...  cluster  kmeans_cluster  hc_cluster  dbs_cluster\n",
              "0  7  5   mar  fri  ...        0               0           1           -1\n",
              "1  7  4   oct  tue  ...        4               1           0           -1\n",
              "2  7  4   oct  sat  ...        4               1           0           -1\n",
              "3  8  6   mar  fri  ...        0               0           0           -1\n",
              "4  8  6   mar  sun  ...        0               0           0           -1\n",
              "\n",
              "[5 rows x 17 columns]"
            ]
          },
          "metadata": {},
          "execution_count": 85
        }
      ]
    },
    {
      "cell_type": "code",
      "metadata": {
        "id": "Jqzt_9jzbuqm"
      },
      "source": [
        "# for model in [kmeans, hc, dbs]:\n",
        "#   print('Silhouette Score for {}: {}'.format(model, silhouette_score(scaled_df, model.labels_)))\n",
        "#   print('-----------------')"
      ],
      "execution_count": null,
      "outputs": []
    },
    {
      "cell_type": "code",
      "metadata": {
        "colab": {
          "base_uri": "https://localhost:8080/",
          "height": 224
        },
        "id": "Ln0XjMtDcKl7",
        "outputId": "7c8bf9af-bb97-4e9c-8aae-70dc549006da"
      },
      "source": [
        "scaled_df = pd.DataFrame(scaled_df)\n",
        "scaled_df['labels'] = dbs.labels_\n",
        "scaled_df.head()"
      ],
      "execution_count": null,
      "outputs": [
        {
          "output_type": "execute_result",
          "data": {
            "text/html": [
              "<div>\n",
              "<style scoped>\n",
              "    .dataframe tbody tr th:only-of-type {\n",
              "        vertical-align: middle;\n",
              "    }\n",
              "\n",
              "    .dataframe tbody tr th {\n",
              "        vertical-align: top;\n",
              "    }\n",
              "\n",
              "    .dataframe thead th {\n",
              "        text-align: right;\n",
              "    }\n",
              "</style>\n",
              "<table border=\"1\" class=\"dataframe\">\n",
              "  <thead>\n",
              "    <tr style=\"text-align: right;\">\n",
              "      <th></th>\n",
              "      <th>0</th>\n",
              "      <th>1</th>\n",
              "      <th>2</th>\n",
              "      <th>3</th>\n",
              "      <th>4</th>\n",
              "      <th>5</th>\n",
              "      <th>6</th>\n",
              "      <th>7</th>\n",
              "      <th>8</th>\n",
              "      <th>9</th>\n",
              "      <th>10</th>\n",
              "      <th>labels</th>\n",
              "    </tr>\n",
              "  </thead>\n",
              "  <tbody>\n",
              "    <tr>\n",
              "      <th>0</th>\n",
              "      <td>-0.805959</td>\n",
              "      <td>-1.323326</td>\n",
              "      <td>-1.830477</td>\n",
              "      <td>-0.860946</td>\n",
              "      <td>-1.842640</td>\n",
              "      <td>0.411724</td>\n",
              "      <td>1.498614</td>\n",
              "      <td>-0.073268</td>\n",
              "      <td>-0.20202</td>\n",
              "      <td>1.008313</td>\n",
              "      <td>0.569860</td>\n",
              "      <td>-1</td>\n",
              "    </tr>\n",
              "    <tr>\n",
              "      <th>1</th>\n",
              "      <td>-0.008102</td>\n",
              "      <td>-1.179541</td>\n",
              "      <td>0.488891</td>\n",
              "      <td>-0.509688</td>\n",
              "      <td>-0.153278</td>\n",
              "      <td>-0.692456</td>\n",
              "      <td>-1.741756</td>\n",
              "      <td>-0.073268</td>\n",
              "      <td>-0.20202</td>\n",
              "      <td>1.008313</td>\n",
              "      <td>-0.244001</td>\n",
              "      <td>-1</td>\n",
              "    </tr>\n",
              "    <tr>\n",
              "      <th>2</th>\n",
              "      <td>-0.008102</td>\n",
              "      <td>-1.049822</td>\n",
              "      <td>0.560715</td>\n",
              "      <td>-0.509688</td>\n",
              "      <td>-0.739383</td>\n",
              "      <td>-0.692456</td>\n",
              "      <td>-1.518282</td>\n",
              "      <td>-0.073268</td>\n",
              "      <td>-0.20202</td>\n",
              "      <td>1.008313</td>\n",
              "      <td>-0.244001</td>\n",
              "      <td>-1</td>\n",
              "    </tr>\n",
              "    <tr>\n",
              "      <th>3</th>\n",
              "      <td>0.191362</td>\n",
              "      <td>-1.212361</td>\n",
              "      <td>-1.898266</td>\n",
              "      <td>-0.004756</td>\n",
              "      <td>-1.825402</td>\n",
              "      <td>3.233519</td>\n",
              "      <td>-0.009834</td>\n",
              "      <td>0.603155</td>\n",
              "      <td>-0.20202</td>\n",
              "      <td>1.440925</td>\n",
              "      <td>1.383722</td>\n",
              "      <td>-1</td>\n",
              "    </tr>\n",
              "    <tr>\n",
              "      <th>4</th>\n",
              "      <td>-0.243833</td>\n",
              "      <td>-0.931043</td>\n",
              "      <td>-1.798600</td>\n",
              "      <td>0.126966</td>\n",
              "      <td>-1.291012</td>\n",
              "      <td>3.356206</td>\n",
              "      <td>-1.238940</td>\n",
              "      <td>-0.073268</td>\n",
              "      <td>-0.20202</td>\n",
              "      <td>1.440925</td>\n",
              "      <td>1.383722</td>\n",
              "      <td>-1</td>\n",
              "    </tr>\n",
              "  </tbody>\n",
              "</table>\n",
              "</div>"
            ],
            "text/plain": [
              "          0         1         2         3  ...        8         9        10  labels\n",
              "0 -0.805959 -1.323326 -1.830477 -0.860946  ... -0.20202  1.008313  0.569860      -1\n",
              "1 -0.008102 -1.179541  0.488891 -0.509688  ... -0.20202  1.008313 -0.244001      -1\n",
              "2 -0.008102 -1.049822  0.560715 -0.509688  ... -0.20202  1.008313 -0.244001      -1\n",
              "3  0.191362 -1.212361 -1.898266 -0.004756  ... -0.20202  1.440925  1.383722      -1\n",
              "4 -0.243833 -0.931043 -1.798600  0.126966  ... -0.20202  1.440925  1.383722      -1\n",
              "\n",
              "[5 rows x 12 columns]"
            ]
          },
          "metadata": {},
          "execution_count": 88
        }
      ]
    },
    {
      "cell_type": "code",
      "metadata": {
        "id": "r3vZzL79cg6r"
      },
      "source": [
        "# scaled_dbs_df = scaled_df.loc[scaled_df['labels'] != -1, :]\n",
        "# silhouette_score(scaled_dbs_df.drop(columns = 'labels'), scaled_dbs_df['labels'])"
      ],
      "execution_count": null,
      "outputs": []
    },
    {
      "cell_type": "code",
      "metadata": {
        "id": "CZ50t2_PctOj"
      },
      "source": [
        ""
      ],
      "execution_count": null,
      "outputs": []
    }
  ]
}